{
 "metadata": {
  "language_info": {
   "codemirror_mode": {
    "name": "ipython",
    "version": 3
   },
   "file_extension": ".py",
   "mimetype": "text/x-python",
   "name": "python",
   "nbconvert_exporter": "python",
   "pygments_lexer": "ipython3",
   "version": "3.7.4-final"
  },
  "orig_nbformat": 2,
  "kernelspec": {
   "name": "python3",
   "display_name": "Python 3",
   "language": "python"
  }
 },
 "nbformat": 4,
 "nbformat_minor": 2,
 "cells": [
  {
   "cell_type": "code",
   "execution_count": 7,
   "metadata": {},
   "outputs": [],
   "source": [
    "import os\n",
    "import math\n",
    "import pandas as pd\n",
    "\n",
    "# versi bikin ulang karena masalah commit dan revert github\n",
    "\n",
    "dir_query = \"test_query pitch\"\n",
    "# dir_query = \"Query_IOACAS_QBH-pitch DNN-LSTM\"\n",
    "# dir_query = \"Query_MIR_QBSH-pitch DNN-LSTM\"\n",
    "\n",
    "dir_out = dir_query.replace(\"pitch\", \"semitone\")\n",
    "if not os.path.exists(dir_out):\n",
    "    os.mkdir(dir_out)\n",
    "\n",
    "def convert_f0_to_semitone(f0):\n",
    "    res = []\n",
    "    for freq in f0:\n",
    "        res.append(round(12*math.log((freq/440),2)+69))\n",
    "    return res\n",
    "\n",
    "for file in os.listdir(dir_query):\n",
    "    filePath = os.path.join(dir_query, file)\n",
    "    df = pd.read_csv(filePath, sep=\"\\t\", header=None)\n",
    "\n",
    "    time = []\n",
    "    f0 = []\n",
    "\n",
    "    for i in range(len(df[1])):\n",
    "        if df[1][i]!=0:\n",
    "            time.append(df[0][i].round(decimals=3))\n",
    "            f0.append(df[1][i].round(decimals=3))\n",
    "            \n",
    "    semitone = convert_f0_to_semitone(f0)\n",
    "\n",
    "    file_csv = os.path.join(dir_out, file)\n",
    "\n",
    "    pd.DataFrame({'time':time, 'semitone':semitone, 'f0':f0}).to_csv(file_csv, index=False)"
   ]
  },
  {
   "cell_type": "code",
   "execution_count": null,
   "metadata": {},
   "outputs": [],
   "source": []
  }
 ]
}