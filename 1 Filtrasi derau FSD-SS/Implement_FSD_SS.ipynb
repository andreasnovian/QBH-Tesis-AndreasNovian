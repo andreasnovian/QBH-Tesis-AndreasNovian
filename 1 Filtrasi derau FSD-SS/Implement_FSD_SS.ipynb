{
 "metadata": {
  "language_info": {
   "codemirror_mode": {
    "name": "ipython",
    "version": 3
   },
   "file_extension": ".py",
   "mimetype": "text/x-python",
   "name": "python",
   "nbconvert_exporter": "python",
   "pygments_lexer": "ipython3",
   "version": "3.7.4-final"
  },
  "orig_nbformat": 2,
  "kernelspec": {
   "name": "python3",
   "display_name": "Python 3",
   "language": "python"
  }
 },
 "nbformat": 4,
 "nbformat_minor": 2,
 "cells": [
  {
   "cell_type": "code",
   "execution_count": 9,
   "metadata": {},
   "outputs": [
    {
     "output_type": "stream",
     "name": "stdout",
     "text": [
      "8000\n1\n1\n64000\n-32128\n"
     ]
    }
   ],
   "source": [
    "import wave, struct\n",
    "\n",
    "# framing\n",
    "file = 'year2003-person00003-00013.wav'\n",
    "waveFile = wave.open(file, mode='rb')\n",
    "print(waveFile.getframerate())\n",
    "print(waveFile.getnchannels())\n",
    "print(waveFile.getsampwidth())\n",
    "print(waveFile.getnframes())\n",
    "f = waveFile.readframes(2)\n",
    "data = struct.unpack(\"<h\", f)\n",
    "print(int(data[0]))"
   ]
  },
  {
   "cell_type": "code",
   "execution_count": null,
   "metadata": {},
   "outputs": [],
   "source": []
  },
  {
   "cell_type": "code",
   "execution_count": null,
   "metadata": {},
   "outputs": [],
   "source": []
  },
  {
   "cell_type": "code",
   "execution_count": null,
   "metadata": {},
   "outputs": [],
   "source": []
  },
  {
   "cell_type": "code",
   "execution_count": null,
   "metadata": {},
   "outputs": [],
   "source": []
  },
  {
   "cell_type": "code",
   "execution_count": null,
   "metadata": {},
   "outputs": [],
   "source": []
  },
  {
   "cell_type": "code",
   "execution_count": null,
   "metadata": {},
   "outputs": [],
   "source": []
  },
  {
   "cell_type": "code",
   "execution_count": null,
   "metadata": {},
   "outputs": [],
   "source": []
  },
  {
   "cell_type": "code",
   "execution_count": null,
   "metadata": {},
   "outputs": [],
   "source": []
  },
  {
   "cell_type": "code",
   "execution_count": null,
   "metadata": {},
   "outputs": [],
   "source": []
  },
  {
   "cell_type": "code",
   "execution_count": null,
   "metadata": {},
   "outputs": [],
   "source": []
  },
  {
   "cell_type": "code",
   "execution_count": null,
   "metadata": {},
   "outputs": [],
   "source": []
  },
  {
   "cell_type": "code",
   "execution_count": 4,
   "metadata": {},
   "outputs": [
    {
     "output_type": "stream",
     "name": "stdout",
     "text": [
      "64000\n",
      "8000\n"
     ]
    }
   ],
   "source": [
    "import noisereduce as nr\n",
    "from scipy.io import wavfile\n",
    "import IPython\n",
    "import numpy as np\n",
    "\n",
    "# load data\n",
    "rate, data = wavfile.read(\"year2003-person00003-00013.wav\")\n",
    "# rate, data = wavfile.read(\"year2003-person00001-00013.wav\")\n",
    "print(len(data))\n",
    "print(rate)\n",
    "\n",
    "# # select section of data that is noise\n",
    "# noisy_part = data[0000:4000].astype(float)\n",
    "# data = data.astype(float)\n",
    "\n",
    "# # perform noise reduction\n",
    "# reduced_noise = nr.reduce_noise(audio_clip=data, noise_clip=noisy_part, verbose=True)\n",
    "\n",
    "# # wavfile.write(\"example.wav\", rate, reduced_noise.astype(np.int8))\n",
    "# wavfile.write(\"example.wav\", 4000, noisy_part)"
   ]
  },
  {
   "cell_type": "code",
   "execution_count": null,
   "metadata": {},
   "outputs": [],
   "source": [
    "from logmmse import logmmse_from_file\n",
    "from scipy.io import wavfile\n",
    "import numpy as np\n",
    "\n",
    "rate = 8000\n",
    "out = logmmse_from_file('year2003-person00001-00013.wav')\n",
    "wavfile.write(\"year2003-person00001-00013-improved.wav\", rate, out.astype(np.int8))"
   ]
  },
  {
   "cell_type": "code",
   "execution_count": null,
   "metadata": {},
   "outputs": [],
   "source": []
  },
  {
   "cell_type": "code",
   "execution_count": null,
   "metadata": {},
   "outputs": [],
   "source": []
  },
  {
   "cell_type": "code",
   "execution_count": null,
   "metadata": {},
   "outputs": [],
   "source": []
  },
  {
   "cell_type": "code",
   "execution_count": null,
   "metadata": {},
   "outputs": [],
   "source": []
  },
  {
   "cell_type": "code",
   "execution_count": null,
   "metadata": {},
   "outputs": [],
   "source": []
  }
 ]
}