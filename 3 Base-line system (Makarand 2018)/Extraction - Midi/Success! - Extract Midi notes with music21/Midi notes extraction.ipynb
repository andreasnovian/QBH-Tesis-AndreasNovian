{
 "metadata": {
  "language_info": {
   "codemirror_mode": {
    "name": "ipython",
    "version": 3
   },
   "file_extension": ".py",
   "mimetype": "text/x-python",
   "name": "python",
   "nbconvert_exporter": "python",
   "pygments_lexer": "ipython3",
   "version": "3.7.4-final"
  },
  "orig_nbformat": 2,
  "kernelspec": {
   "name": "python3",
   "display_name": "Python 3",
   "language": "python"
  }
 },
 "nbformat": 4,
 "nbformat_minor": 2,
 "cells": [
  {
   "cell_type": "code",
   "execution_count": 1,
   "metadata": {},
   "outputs": [
    {
     "output_type": "stream",
     "name": "stdout",
     "text": [
      "['CSVs', 'FIGs', 'Midi notes extraction.ipynb', 'MIDIs', 'midi_putri', 'Referensi.txt']\n"
     ]
    }
   ],
   "source": [
    "import numpy as np # linear algebra\n",
    "import pandas as pd # data processing, CSV file I/O (e.g. pd.read_csv)\n",
    "\n",
    "# Listing current data on our folder.\n",
    "import os\n",
    "print(os.listdir(\".\"))"
   ]
  },
  {
   "cell_type": "code",
   "execution_count": 2,
   "metadata": {},
   "outputs": [
    {
     "output_type": "stream",
     "name": "stdout",
     "text": [
      "['Afgan_BukanCintaBiasa_Vocal.mid', 'Agnes_Jera_Vocal.mid', 'Andra_Sempurna_Vocal.mid', 'Anggun_BayangIlusi_Vocal.mid', 'Anggun_Mimpi_Vocal.mid', 'AriLasso_Hampa_Vocal.mid', 'Bondan_YaSudahlah_Vocal.mid', 'Chrisye_Cinta_Vocal.mid', 'Chrisye_KalaCintaMenggoda_Vocal.mid', 'Chrisye_SepertiYangKauMinta_Vocal.mid', 'Dewa19_SeparuhNafas_Vocal.mid', 'Gita_BukanPermainan_Vocal.mid', 'Gita_Parasit_Vocal.mid', 'Glenn_AkhirCeritaCinta_Vocal.mid', 'Glenn_Januari_Vocal.mid', 'Glenn_SedihTakBerujung_Vocal.mid', 'Glenn_SekaliIniSaja_Vocal.mid', 'Glenn_Terpesona_Vocal.mid', 'Glenn_Terserah_Vocal.mid', 'Kerispatih_DemiCinta_Vocal.mid', 'Melly_Gantung_Vocal.mid', 'Mocca_HanyaSatu_Vocal.mid', 'Once_AkuMau_Vocal.mid', 'Raisa_ApalahArtiMenunggu_Vocal.mid', 'Sherina_Geregetan_Vocal.mid', 'Sherina_SimfoniHitam_Vocal.mid', 'SO7_MelompatLebihTinggi_Vocal.mid', 'Ten2Five_HanyaUntukmu_Vocal.mid', 'Tompi_MenghujamJantung_Vocal.mid', 'Vina_SuratCinta_Vocal.mid']\n"
     ]
    }
   ],
   "source": [
    "# Defining some constants and creating a new folder for MIDIs.\n",
    "# midi_path = \"MIDIs\"\n",
    "\n",
    "# Some helper methods.    \n",
    "def concat_path(path, child):\n",
    "    return path + \"/\" + child\n",
    "\n",
    "# Look for all midis in midi_path\n",
    "midis_filename = os.listdir(midi_path)\n",
    "print(midis_filename)"
   ]
  },
  {
   "cell_type": "code",
   "execution_count": 3,
   "metadata": {},
   "outputs": [],
   "source": [
    "from music21 import converter, corpus, instrument, midi, note, chord, pitch\n",
    "\n",
    "def open_midi(midi_path):\n",
    "    mf = midi.MidiFile()\n",
    "    mf.open(midi_path)\n",
    "    mf.read()\n",
    "    mf.close()       \n",
    "\n",
    "    return midi.translate.midiFileToStream(mf)\n",
    "\n",
    "base_midis = []\n",
    "\n",
    "# Open and append all midis in midi_path in to base_midi\n",
    "for midis in midis_filename:\n",
    "    base_midis.append(open_midi(concat_path(midi_path, midis)))"
   ]
  },
  {
   "cell_type": "code",
   "execution_count": 4,
   "metadata": {},
   "outputs": [],
   "source": [
    "import matplotlib.pyplot as plt\n",
    "import matplotlib.lines as mlines\n",
    "import pandas as pd\n",
    "\n",
    "def save_to_csv(x,y,n):\n",
    "    df = pd.DataFrame({'beats': x, 'note_index': y})\n",
    "    df.to_csv(\"CSVs/\"+midis_filename[n]+\".csv\", index=False)\n",
    "\n",
    "def extract_notes(midi_part):\n",
    "    parent_element = []\n",
    "    ret = []\n",
    "    for nt in midi_part.flat.notes:        \n",
    "        if isinstance(nt, note.Note):\n",
    "            ret.append(max(0.0, nt.pitch.ps))\n",
    "            parent_element.append(nt)\n",
    "        elif isinstance(nt, chord.Chord):\n",
    "            for pitch in nt.pitches:\n",
    "                ret.append(max(0.0, pitch.ps))\n",
    "                parent_element.append(nt)\n",
    "\n",
    "    return ret, parent_element\n",
    "\n",
    "def print_parts_countour(midi,n):\n",
    "    fig = plt.figure(figsize=(12, 5))\n",
    "    ax = fig.add_subplot(1, 1, 1)\n",
    "    minPitch = pitch.Pitch('C10').ps\n",
    "    maxPitch = 0\n",
    "    xMax = 0\n",
    "    \n",
    "    # Drawing notes.\n",
    "    for i in range(len(midi.parts)):\n",
    "        top = midi.parts[i].flat.notes                  \n",
    "        y, parent_element = extract_notes(top)\n",
    "        if (len(y) < 1): continue\n",
    "            \n",
    "        x = [n.offset for n in parent_element]\n",
    "        ax.scatter(x, y, alpha=0.6, s=7)\n",
    "\n",
    "        # save notes to csv\n",
    "        save_to_csv(x,y,n)\n",
    "        \n",
    "        aux = min(y)\n",
    "        if (aux < minPitch): minPitch = aux\n",
    "            \n",
    "        aux = max(y)\n",
    "        if (aux > maxPitch): maxPitch = aux\n",
    "            \n",
    "        aux = max(x)\n",
    "        if (aux > xMax): xMax = aux\n",
    "    \n",
    "    for i in range(1, 10):\n",
    "        linePitch = pitch.Pitch('C{0}'.format(i)).ps\n",
    "        if (linePitch > minPitch and linePitch < maxPitch):\n",
    "            ax.add_line(mlines.Line2D([0, xMax], [linePitch, linePitch], color='red', alpha=0.1))        \n",
    "\n",
    "    plt.ylabel(\"Note index (each octave has 12 notes)\")\n",
    "    plt.xlabel(\"Number of quarter notes (beats)\")\n",
    "    plt.title('Voices motion approximation, each color is a different instrument, red lines show each octave')\n",
    "    \n",
    "    # save plot to figure\n",
    "    plt.savefig(\"FIGs/\"+midis_filename[n]+\".png\")\n",
    "    # plt.show()\n",
    "    plt.close()\n",
    "\n",
    "# Focusing only on 6 first measures to make it easier to understand.\n",
    "# print_parts_countour(base_midi.measures(0, 6))\n",
    "\n",
    "for n in range(len(base_midis)):\n",
    "    print_parts_countour(base_midis[n],n)"
   ]
  },
  {
   "cell_type": "code",
   "execution_count": null,
   "metadata": {},
   "outputs": [],
   "source": []
  }
 ]
}