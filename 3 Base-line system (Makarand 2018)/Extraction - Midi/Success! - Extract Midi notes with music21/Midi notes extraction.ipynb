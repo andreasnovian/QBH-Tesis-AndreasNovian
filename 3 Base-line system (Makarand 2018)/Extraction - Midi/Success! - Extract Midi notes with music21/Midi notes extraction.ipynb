{
 "metadata": {
  "language_info": {
   "codemirror_mode": {
    "name": "ipython",
    "version": 3
   },
   "file_extension": ".py",
   "mimetype": "text/x-python",
   "name": "python",
   "nbconvert_exporter": "python",
   "pygments_lexer": "ipython3",
   "version": "3.7.4-final"
  },
  "orig_nbformat": 2,
  "kernelspec": {
   "name": "python3",
   "display_name": "Python 3"
  }
 },
 "nbformat": 4,
 "nbformat_minor": 2,
 "cells": [
  {
   "cell_type": "code",
   "execution_count": 5,
   "metadata": {},
   "outputs": [
    {
     "output_type": "stream",
     "name": "stdout",
     "text": [
      "['CSVs', 'FIGs', 'Midi notes extraction.ipynb', 'MIDIs', 'Referensi.txt']\n"
     ]
    }
   ],
   "source": [
    "import numpy as np # linear algebra\n",
    "import pandas as pd # data processing, CSV file I/O (e.g. pd.read_csv)\n",
    "\n",
    "# Listing current data on our folder.\n",
    "import os\n",
    "print(os.listdir(\".\"))"
   ]
  },
  {
   "cell_type": "code",
   "execution_count": 6,
   "metadata": {},
   "outputs": [
    {
     "output_type": "stream",
     "name": "stdout",
     "text": [
      "['00024.mid', '00025.mid', '00065.mid', '00075.mid', '00080.mid', '00083.mid', '00089.mid', '00101.mid', '00106.mid', '00108.mid', '00110.mid', '00111.mid', '00114.mid', '00116.mid', '00120.mid', '00128.mid', '00129.mid', '00133.mid', '00139.mid', '00140.mid', '00160.mid', '00162.mid', '00167.mid', '00185.mid', '00192.mid', '00193.mid', '00195.mid', '00197.mid', '00210.mid', '00232.mid', '00233.mid', '00245.mid', '00250.mid', '00265.mid', '00271.mid', '00276.mid', '00278.mid', '00279.mid', '00289.mid', '00293.mid', '00306.mid', '00319.mid', '00321.mid', '00362.mid', '00363.mid', '00392.mid', '00399.mid', '00438.mid', '00461.mid', '00468.mid', '00475.mid', '00513.mid', '00514.mid', '00515.mid', '00529.mid', '00533.mid', '00540.mid', '00550.mid', '00561.mid', '00562.mid', '00568.mid', '00570.mid', '00572.mid', '00573.mid', '00594.mid', '00606.mid', '00628.mid', '00636.mid', '00643.mid', '00647.mid', '00660.mid', '00662.mid', '00685.mid', '00693.mid', '00728.mid', '00730.mid', '00732.mid', '00736.mid', '00747.mid', '00770.mid', '00790.mid', '00794.mid', '00805.mid', '00811.mid', '00839.mid', '00850.mid', '00858.mid', '00914.mid', '00915.mid', '00926.mid', '00937.mid', '00941.mid', '00956.mid', '01000.mid', '01014.mid', '01036.mid', '01039.mid', '01044.mid', '01054.mid', '01062.mid', '01067.mid', '01068.mid', '01070.mid', '01082.mid', '01083.mid', '01094.mid', '10013.mid', '10021.mid', '10024.mid', '10027.mid', '10030.mid', '10032.mid', '10039.mid', '10040.mid', '10043.mid', '10045.mid', '10052.mid', '10070.mid', '10075.mid', '10082.mid', '10083.mid', '10084.mid', '10095.mid', '10109.mid', '10110.mid', '10136.mid', '10142.mid', '10143.mid', '10150.mid', '10153.mid', '10157.mid', '10160.mid', '10164.mid', '10169.mid', '10173.mid', '10183.mid', '10186.mid', '10196.mid', '10204.mid', '10209.mid', '10220.mid', '10222.mid', '10223.mid', '10227.mid', '10230.mid', '10231.mid', '10237.mid', '10251.mid', '10254.mid', '10255.mid', '10257.mid', '10258.mid', '10263.mid', '10266.mid', '10272.mid', '10274.mid', '10285.mid', '10291.mid', '10294.mid', '10295.mid', '10298.mid', '10300.mid', '10302.mid', '10303.mid', '10304.mid', '10306.mid', '10310.mid', '10312.mid', '10314.mid', '10325.mid', '10329.mid', '10331.mid', '10332.mid', '10340.mid', '10341.mid', '10343.mid', '10345.mid', '10354.mid', '10370.mid', '10372.mid', '10382.mid', '10383.mid', '10399.mid', '10404.mid', '10412.mid', '10430.mid', '10435.mid', '10437.mid', '10442.mid', '10445.mid', '10446.mid', '10447.mid', '10453.mid', '10477.mid', '10478.mid', '10479.mid', '10491.mid', '10494.mid', '10503.mid', '10512.mid', '10520.mid', '10521.mid', '10529.mid', '10541.mid', '10546.mid', '10567.mid', '10583.mid', '10594.mid', '10606.mid', '10611.mid', '10613.mid', '10617.mid', '10628.mid', '10642.mid', '10985.mid', '10989.mid', '11007.mid', '11070.mid', '11209.mid', '11228.mid', '11299.mid', '11342.mid', '11441.mid', '11485.mid', '11488.mid', '11521.mid', '11566.mid', '11591.mid', '11620.mid', '11650.mid', '11657.mid', '11682.mid', '11710.mid', '11719.mid', '11739.mid', '11774.mid', '11789.mid', '11859.mid', '12008.mid', '12040.mid', '12049.mid', '12062.mid', '12072.mid', '12082.mid', '12093.mid', '12106.mid', '12110.mid', '12113.mid', '12117.mid', '12177.mid', '12191.mid', '12212.mid', '12252.mid', '12263.mid', '12270.mid', '12290.mid', '12315.mid', '12320.mid', '12321.mid', '12340.mid', '12342.mid', '12425.mid', '12434.mid', '12435.mid', '12453.mid', '12476.mid', '12480.mid', '12485.mid', '12503.mid', '12539.mid', '12584.mid', '12591.mid', '12599.mid', '12617.mid', '12644.mid', '12648.mid', '12649.mid', '12658.mid', '12659.mid', '12663.mid', '12667.mid', '12691.mid', '12700.mid', '12701.mid', '12706.mid', '12707.mid', '12713.mid', '12715.mid', '12716.mid', '12734.mid', '12743.mid', '12744.mid', '12752.mid', '12784.mid', '12792.mid', '12793.mid', '12794.mid', '12820.mid']\n"
     ]
    }
   ],
   "source": [
    "# Defining some constants and creating a new folder for MIDIs.\n",
    "midi_path = \"MIDIs\"\n",
    "\n",
    "# Some helper methods.    \n",
    "def concat_path(path, child):\n",
    "    return path + \"/\" + child\n",
    "\n",
    "# Look for all midis in midi_path\n",
    "midis_filename = os.listdir(midi_path)\n",
    "print(midis_filename)"
   ]
  },
  {
   "cell_type": "code",
   "execution_count": 7,
   "metadata": {},
   "outputs": [],
   "source": [
    "from music21 import converter, corpus, instrument, midi, note, chord, pitch\n",
    "\n",
    "def open_midi(midi_path):\n",
    "    mf = midi.MidiFile()\n",
    "    mf.open(midi_path)\n",
    "    mf.read()\n",
    "    mf.close()       \n",
    "\n",
    "    return midi.translate.midiFileToStream(mf)\n",
    "\n",
    "base_midis = []\n",
    "\n",
    "# Open and append all midis in midi_path in to base_midi\n",
    "for midis in midis_filename:\n",
    "    base_midis.append(open_midi(concat_path(midi_path, midis)))"
   ]
  },
  {
   "cell_type": "code",
   "execution_count": 8,
   "metadata": {},
   "outputs": [],
   "source": [
    "import matplotlib.pyplot as plt\n",
    "import matplotlib.lines as mlines\n",
    "import pandas as pd\n",
    "\n",
    "def save_to_csv(x,y,n):\n",
    "    df = pd.DataFrame({'beats': x, 'note_index': y})\n",
    "    df.to_csv(\"CSVs/\"+midis_filename[n]+\".csv\", index=False)\n",
    "\n",
    "def extract_notes(midi_part):\n",
    "    parent_element = []\n",
    "    ret = []\n",
    "    for nt in midi_part.flat.notes:        \n",
    "        if isinstance(nt, note.Note):\n",
    "            ret.append(max(0.0, nt.pitch.ps))\n",
    "            parent_element.append(nt)\n",
    "        elif isinstance(nt, chord.Chord):\n",
    "            for pitch in nt.pitches:\n",
    "                ret.append(max(0.0, pitch.ps))\n",
    "                parent_element.append(nt)\n",
    "\n",
    "    return ret, parent_element\n",
    "\n",
    "def print_parts_countour(midi,n):\n",
    "    fig = plt.figure(figsize=(12, 5))\n",
    "    ax = fig.add_subplot(1, 1, 1)\n",
    "    minPitch = pitch.Pitch('C10').ps\n",
    "    maxPitch = 0\n",
    "    xMax = 0\n",
    "    \n",
    "    # Drawing notes.\n",
    "    for i in range(len(midi.parts)):\n",
    "        top = midi.parts[i].flat.notes                  \n",
    "        y, parent_element = extract_notes(top)\n",
    "        if (len(y) < 1): continue\n",
    "            \n",
    "        x = [n.offset for n in parent_element]\n",
    "        ax.scatter(x, y, alpha=0.6, s=7)\n",
    "\n",
    "        # save notes to csv\n",
    "        save_to_csv(x,y,n)\n",
    "        \n",
    "        aux = min(y)\n",
    "        if (aux < minPitch): minPitch = aux\n",
    "            \n",
    "        aux = max(y)\n",
    "        if (aux > maxPitch): maxPitch = aux\n",
    "            \n",
    "        aux = max(x)\n",
    "        if (aux > xMax): xMax = aux\n",
    "    \n",
    "    for i in range(1, 10):\n",
    "        linePitch = pitch.Pitch('C{0}'.format(i)).ps\n",
    "        if (linePitch > minPitch and linePitch < maxPitch):\n",
    "            ax.add_line(mlines.Line2D([0, xMax], [linePitch, linePitch], color='red', alpha=0.1))        \n",
    "\n",
    "    plt.ylabel(\"Note index (each octave has 12 notes)\")\n",
    "    plt.xlabel(\"Number of quarter notes (beats)\")\n",
    "    plt.title('Voices motion approximation, each color is a different instrument, red lines show each octave')\n",
    "    \n",
    "    # save plot to figure\n",
    "    plt.savefig(\"FIGs/\"+midis_filename[n]+\".png\")\n",
    "    # plt.show()\n",
    "    plt.close()\n",
    "\n",
    "# Focusing only on 6 first measures to make it easier to understand.\n",
    "# print_parts_countour(base_midi.measures(0, 6))\n",
    "\n",
    "for n in range(len(base_midis)):\n",
    "    print_parts_countour(base_midis[n],n)"
   ]
  },
  {
   "cell_type": "code",
   "execution_count": null,
   "metadata": {},
   "outputs": [],
   "source": []
  }
 ]
}