{
 "metadata": {
  "language_info": {
   "codemirror_mode": {
    "name": "ipython",
    "version": 3
   },
   "file_extension": ".py",
   "mimetype": "text/x-python",
   "name": "python",
   "nbconvert_exporter": "python",
   "pygments_lexer": "ipython3",
   "version": "3.7.4-final"
  },
  "orig_nbformat": 2,
  "kernelspec": {
   "name": "python3",
   "display_name": "Python 3"
  }
 },
 "nbformat": 4,
 "nbformat_minor": 2,
 "cells": [
  {
   "cell_type": "code",
   "execution_count": 1,
   "metadata": {},
   "outputs": [],
   "source": [
    "import os\n",
    "\n",
    "location = os.getcwd()\n",
    "data_object1 = os.path.join(location, 'Lib data_evaluation', 'dataset1.txt')\n",
    "data_object2 = os.path.join(location, 'Lib data_evaluation', 'dataset2.txt')\n",
    "data_object3 = os.path.join(location, 'Lib data_evaluation', 'dataset3.txt')\n",
    "data_object4 = os.path.join(location, 'Lib data_evaluation', 'dataset4.txt')\n",
    "data_object5 = os.path.join(location, 'Lib data_evaluation', 'dataset5.txt')\n",
    "\n",
    "# use this everytime opening a data\n",
    "# dataset1 = open(data_object1)\n",
    "# dataset2 = open(data_object2)\n",
    "# dataset3 = open(data_object3)\n",
    "# dataset4 = open(data_object4)\n",
    "# dataset5 = open(data_object5)"
   ]
  },
  {
   "cell_type": "code",
   "execution_count": 2,
   "metadata": {},
   "outputs": [],
   "source": [
    "from ir_evaluation.effectiveness import effectiveness\n",
    "\n",
    "ir=effectiveness() # --> an object, which we can use all methods in it, is created\n",
    "\n",
    "interactions = {}\n",
    "\n",
    "# dataset2 formation: id|query_id|visited_or_related_document_id|order_number_of_the_document\n",
    "\n",
    "dataset2 = open(data_object2)\n",
    "\n",
    "for row in dataset2:\n",
    "    row = row.strip().split('|')\n",
    "\n",
    "    if interactions.get(row[1]) is None:\n",
    "        interactions[row[1]] = {}\n",
    "\n",
    "    if interactions[row[1]].get('visited_documents_orders') is None:\n",
    "        interactions[row[1]]['visited_documents_orders'] = []\n",
    "        \n",
    "    interactions[row[1]]['visited_documents_orders'].append(row[3])"
   ]
  },
  {
   "cell_type": "code",
   "execution_count": 3,
   "metadata": {},
   "outputs": [
    {
     "output_type": "stream",
     "name": "stdout",
     "text": [
      "Mean Reciprocal Rank:\n0.3965163308913308\n"
     ]
    }
   ],
   "source": [
    "# parameters => (data)\n",
    "\n",
    "print (\"Mean Reciprocal Rank:\")\n",
    "mrr = ir.mrr(interactions)\n",
    "print(mrr)"
   ]
  },
  {
   "cell_type": "code",
   "execution_count": null,
   "metadata": {},
   "outputs": [],
   "source": []
  }
 ]
}