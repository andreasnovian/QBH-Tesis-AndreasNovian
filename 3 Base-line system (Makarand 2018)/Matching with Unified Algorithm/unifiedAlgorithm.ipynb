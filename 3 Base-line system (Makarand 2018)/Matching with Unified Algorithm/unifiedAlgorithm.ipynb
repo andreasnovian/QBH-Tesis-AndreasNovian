{
 "metadata": {
  "language_info": {
   "codemirror_mode": {
    "name": "ipython",
    "version": 3
   },
   "file_extension": ".py",
   "mimetype": "text/x-python",
   "name": "python",
   "nbconvert_exporter": "python",
   "pygments_lexer": "ipython3",
   "version": "3.7.4-final"
  },
  "orig_nbformat": 2,
  "kernelspec": {
   "name": "python3",
   "display_name": "Python 3"
  }
 },
 "nbformat": 4,
 "nbformat_minor": 2,
 "cells": [
  {
   "cell_type": "code",
   "execution_count": 1,
   "metadata": {},
   "outputs": [],
   "source": [
    "# read midi and query data\n",
    "# insert it into dataframe\n",
    "\n",
    "import os\n",
    "import pandas as pd\n",
    "\n",
    "dir_query = \"Data query MIR-QBSH\"\n",
    "dir_midi = \"Database midi MIR-QBSH\"\n",
    "\n",
    "list_dir_query = []\n",
    "list_dir_midi = []\n",
    "\n",
    "df_query = []\n",
    "df_midi = []\n",
    "rel_dis_query = []\n",
    "    \n",
    "# read and insert semitone from query to list of dataframe\n",
    "for file in os.listdir(dir_query):\n",
    "    if file.endswith(\".csv\"):\n",
    "        list_dir_query.append(file.replace(\".mid.csv\",\"\"))\n",
    "        file_path = os.path.join(dir_query, file)\n",
    "        fields = [\"semitone\"]\n",
    "        temp_df = pd.read_csv(file_path, usecols=fields)\n",
    "        df_query.append(temp_df.to_numpy().flatten())\n",
    "\n",
    "# read and insert note_index or semitone from midi to list of dataframe\n",
    "for file in os.listdir(dir_midi):\n",
    "    if file.endswith(\".csv\"):\n",
    "        list_dir_midi.append(file.replace(\".mid.csv\",\"\"))\n",
    "        file_path = os.path.join(dir_midi, file)\n",
    "        fields = [\"note_index\"]\n",
    "        temp_df = pd.read_csv(file_path, usecols=fields)\n",
    "        df_midi.append(temp_df.to_numpy().flatten())"
   ]
  },
  {
   "cell_type": "code",
   "execution_count": 2,
   "metadata": {},
   "outputs": [],
   "source": [
    "# calculate relative distance\n",
    "def calc_rel_dis(df):\n",
    "    res = []\n",
    "    length = len(df)\n",
    "    for i in range(length-1):\n",
    "        dis = float(df[i+1] - df[i])\n",
    "        res.append(dis)\n",
    "    res = remove_consecutive(res)\n",
    "    return res\n",
    "\n",
    "# remove consecutive distance in list of relative distance \n",
    "def remove_consecutive(list):\n",
    "    i = 0\n",
    "    while i < len(list)-1:\n",
    "        if list[i] == list[i+1]:\n",
    "            del list[i]\n",
    "        else:\n",
    "            i = i+1\n",
    "    return list\n",
    "\n",
    "# calculate relative distance in all query\n",
    "dis_query = []\n",
    "for query in df_query:\n",
    "    dis_query.append(calc_rel_dis(query))\n",
    "\n",
    "# calculate relative distance in all midi\n",
    "dis_midi = []\n",
    "for midi in df_midi:\n",
    "    dis_midi.append(calc_rel_dis(midi))\n",
    "\n",
    "# print(dis_query)\n",
    "# print(dis_midi)"
   ]
  },
  {
   "cell_type": "code",
   "execution_count": 3,
   "metadata": {},
   "outputs": [
    {
     "output_type": "stream",
     "name": "stdout",
     "text": [
      "query 0 top ten is [45, 31, 22, 43, 13, 5, 24, 23, 31, 27]\n",
      "query 1 top ten is [45, 31, 22, 43, 13, 24, 5, 23, 31, 27]\n",
      "query 2 top ten is [45, 31, 22, 13, 25, 41, 24, 5, 31, 27]\n",
      "query 3 top ten is [45, 22, 30, 31, 25, 5, 24, 39, 12, 30]\n",
      "query 4 top ten is [45, 22, 30, 43, 31, 26, 25, 32, 13, 5]\n",
      "query 5 top ten is [45, 22, 30, 31, 25, 25, 40, 5, 12, 30]\n"
     ]
    }
   ],
   "source": [
    "import edit_distance\n",
    "\n",
    "# ref = dis_midi\n",
    "# hyp = dis_query\n",
    "\n",
    "counter = 0\n",
    "list_ratio = []\n",
    "\n",
    "def get_top_ten(ls):\n",
    "    res = []\n",
    "    for i in range(10):\n",
    "        temp = ls.index(max(ls))\n",
    "        res.append(temp)\n",
    "        ls.pop(temp)\n",
    "    return res\n",
    "\n",
    "for i in range(len(dis_query)):\n",
    "    hyp = dis_query[i]\n",
    "    list_ratio = []\n",
    "    for ref in dis_midi:\n",
    "        sm = edit_distance.SequenceMatcher(a=ref, b=hyp)\n",
    "        list_ratio.append(sm.ratio())\n",
    "    res = get_top_ten(list_ratio)\n",
    "    print(\"query\",i,\"top ten is\",res)\n",
    "\n",
    "# print(list_ratio)\n",
    "# print(max(list_ratio))\n",
    "# print(list_ratio.index(max(list_ratio)))"
   ]
  },
  {
   "cell_type": "code",
   "execution_count": 18,
   "metadata": {},
   "outputs": [
    {
     "output_type": "stream",
     "name": "stdout",
     "text": [
      "[2.0, 0.0, -2.0, 2.0, -4.0, -5.0, 5.0, 2.0, 0.0, -2.0, 2.0, -4.0, 0.0, 4.0, 3.0, 0.0, 2.0, -2.0, -1.0, -2.0, 7.0, 0.0, -12.0, 0.0, 12.0, 0.0, -12.0, 5.0, 2.0, 0.0, -2.0, 2.0, -4.0, -5.0, 5.0, 2.0, 0.0, -2.0, 2.0, -4.0]\n"
     ]
    },
    {
     "output_type": "execute_result",
     "data": {
      "text/plain": [
       "Counter({'00001': 4,\n",
       "         '00005': 2,\n",
       "         '00014': 2,\n",
       "         '00015': 2,\n",
       "         '00017': 3,\n",
       "         '00019': 4,\n",
       "         '00023': 4,\n",
       "         '00025': 1,\n",
       "         '00027': 1,\n",
       "         '00028': 4,\n",
       "         '00029': 1,\n",
       "         '00032': 6,\n",
       "         '00036': 2,\n",
       "         '00037': 2,\n",
       "         '00038': 3,\n",
       "         '00043': 2})"
      ]
     },
     "metadata": {},
     "execution_count": 18
    }
   ],
   "source": [
    "import hashedindex\n",
    "index = hashedindex.HashedIndex()\n",
    "\n",
    "# example:\n",
    "# midi relative distance : +1 +1 +4\n",
    "# 2-grams are +1 and +4\n",
    "# 3-grams are +1 +1 and +1 +3\n",
    "# 4-grams is +1 +1 +4\n",
    "\n",
    "print(dis_midi[0])\n",
    "\n",
    "# inserting 2-grams as inverted index\n",
    "for midiNumber in range(len(dis_midi)):\n",
    "    for note in dis_midi[midiNumber]:\n",
    "        index.add_term_occurrence(note, list_dir_midi[midiNumber])\n",
    "\n",
    "# test 2-grams\n",
    "index.get_documents((2.0))\n",
    "\n",
    "# inserting 3-grams as inverted index\n",
    "for midiNumber in range(len(dis_midi)):\n",
    "    for noteNumber in range(len(dis_midi[midiNumber])-1):\n",
    "        term = (dis_midi[midiNumber][noteNumber], dis_midi[midiNumber][noteNumber+1])\n",
    "        index.add_term_occurrence(term, list_dir_midi[midiNumber])\n",
    "\n",
    "# test 3-grams\n",
    "index.get_documents((2.0, 0.0))\n",
    "\n",
    "# inserting 4-grams as inverted index\n",
    "for midiNumber in range(len(dis_midi)):\n",
    "    for noteNumber in range(len(dis_midi[midiNumber])-2):\n",
    "        term = (dis_midi[midiNumber][noteNumber], dis_midi[midiNumber][noteNumber+1], dis_midi[midiNumber][noteNumber+2])\n",
    "        index.add_term_occurrence(term, list_dir_midi[midiNumber])\n",
    "\n",
    "# test 4-grams\n",
    "index.get_documents((2.0, 0.0, -2.0))"
   ]
  },
  {
   "cell_type": "code",
   "execution_count": null,
   "metadata": {},
   "outputs": [],
   "source": []
  }
 ]
}