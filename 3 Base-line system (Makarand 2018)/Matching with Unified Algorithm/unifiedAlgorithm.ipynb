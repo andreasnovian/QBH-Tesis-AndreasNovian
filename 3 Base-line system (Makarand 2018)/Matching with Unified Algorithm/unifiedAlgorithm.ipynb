{
 "metadata": {
  "language_info": {
   "codemirror_mode": {
    "name": "ipython",
    "version": 3
   },
   "file_extension": ".py",
   "mimetype": "text/x-python",
   "name": "python",
   "nbconvert_exporter": "python",
   "pygments_lexer": "ipython3",
   "version": "3.7.4-final"
  },
  "orig_nbformat": 2,
  "kernelspec": {
   "name": "python3",
   "display_name": "Python 3"
  }
 },
 "nbformat": 4,
 "nbformat_minor": 2,
 "cells": [
  {
   "cell_type": "code",
   "execution_count": 1,
   "metadata": {},
   "outputs": [],
   "source": [
    "# read midi and query data\n",
    "# insert it into dataframe\n",
    "\n",
    "import os\n",
    "import pandas as pd\n",
    "\n",
    "dir_query = \"Data query MIR-QBSH\"\n",
    "dir_midi = \"Database midi MIR-QBSH\"\n",
    "\n",
    "df_query = []\n",
    "df_midi = []\n",
    "rel_dis_query = []\n",
    "    \n",
    "# read and insert semitone from query to list of dataframe\n",
    "for file in os.listdir(dir_query):\n",
    "    if file.endswith(\".csv\"):\n",
    "        file_path = os.path.join(dir_query, file)\n",
    "        fields = [\"semitone\"]\n",
    "        temp_df = pd.read_csv(file_path, usecols=fields)\n",
    "        df_query.append(temp_df.to_numpy().flatten())\n",
    "\n",
    "# read and insert note_index or semitone from midi to list of dataframe\n",
    "for file in os.listdir(dir_midi):\n",
    "    if file.endswith(\".csv\"):\n",
    "        file_path = os.path.join(dir_midi, file)\n",
    "        fields = [\"note_index\"]\n",
    "        temp_df = pd.read_csv(file_path, usecols=fields)\n",
    "        df_midi.append(temp_df.to_numpy().flatten())"
   ]
  },
  {
   "cell_type": "code",
   "execution_count": 2,
   "metadata": {},
   "outputs": [
    {
     "output_type": "stream",
     "name": "stdout",
     "text": [
      "[0.0, 6.0, 2.0, 0.0, -1.0, 0.0, 1.0, 0.0, 1.0, 0.0, 1.0, 0.0, 1.0, 0.0, 1.0, 0.0, -1.0, 0.0, -1.0, 0.0, -1.0, 0.0, 1.0, 0.0, -1.0, 0.0, -1.0, 0.0, -1.0, 0.0, 1.0, 0.0, 1.0, 0.0, 1.0, 0.0, 1.0, 0.0, 1.0, 0.0, -1.0, 0.0, -1.0, 0.0, -1.0, 0.0, -1.0, 0.0, -1.0, 0.0, -1.0, 0.0, -1.0, 0.0, -1.0, 0.0, 2.0, 0.0, 1.0, 0.0, 1.0, 0.0, 1.0, 0.0, 1.0, 0.0, -1.0, 1.0, 0.0, 1.0, 0.0, 1.0, 0.0, -1.0, 1.0, 0.0, -1.0, 0.0, -1.0, 0.0, -1.0, 0.0, -1.0, 0.0, -1.0, 0.0, 1.0, 0.0, 1.0, 0.0, 1.0, 0.0, 1.0, 0.0, 1.0, 0.0, -1.0, 0.0, -1.0, 0.0, -1.0, 0.0, -1.0, 0.0, 1.0, 0.0, -1.0, 0.0, 1.0, 0.0]\n[2.0, 0.0, -2.0, 2.0, -4.0, -5.0, 5.0, 2.0, 0.0, -2.0, 2.0, -4.0, 0.0, 4.0, 3.0, 0.0, 2.0, -2.0, -1.0, -2.0, 7.0, 0.0, -12.0, 0.0, 12.0, 0.0, -12.0, 5.0, 2.0, 0.0, -2.0, 2.0, -4.0, -5.0, 5.0, 2.0, 0.0, -2.0, 2.0, -4.0]\n"
     ]
    }
   ],
   "source": [
    "# calculate relative distance\n",
    "def calc_rel_dis(df):\n",
    "    res = []\n",
    "    length = len(df)\n",
    "    for i in range(length-1):\n",
    "        dis = float(df[i+1] - df[i])\n",
    "        res.append(dis)\n",
    "    res = remove_consecutive(res)\n",
    "    return res\n",
    "\n",
    "def remove_consecutive(list):\n",
    "    i = 0\n",
    "    while i < len(list)-1:\n",
    "        if list[i] == list[i+1]:\n",
    "            del list[i]\n",
    "        else:\n",
    "            i = i+1\n",
    "    return list\n",
    "\n",
    "dis_query = calc_rel_dis(df_query[0])\n",
    "dis_midi = calc_rel_dis(df_midi[0])\n",
    "print(dis_query)\n",
    "print(dis_midi)\n",
    "\n",
    "# print(df_query[0])\n",
    "# print(len(df_query[0]))\n",
    "\n",
    "# print(df_midi[0])\n",
    "# print(len(df_midi[0]))"
   ]
  },
  {
   "cell_type": "code",
   "execution_count": 4,
   "metadata": {},
   "outputs": [
    {
     "output_type": "stream",
     "name": "stdout",
     "text": [
      "[['delete', 0, 1, 0, 0], ['delete', 1, 2, 0, 0], ['equal', 2, 3, 0, 1], ['delete', 3, 4, 0, 0], ['delete', 4, 5, 0, 0], ['delete', 5, 6, 0, 0], ['delete', 6, 7, 0, 0], ['delete', 7, 8, 0, 0], ['delete', 8, 9, 0, 0], ['delete', 9, 10, 0, 0], ['delete', 10, 11, 0, 0], ['delete', 11, 12, 0, 0], ['delete', 12, 13, 0, 0], ['delete', 13, 14, 0, 0], ['delete', 14, 15, 0, 0], ['delete', 15, 16, 0, 0], ['delete', 16, 17, 0, 0], ['delete', 17, 18, 0, 0], ['delete', 18, 19, 0, 0], ['delete', 19, 20, 0, 0], ['delete', 20, 21, 0, 0], ['delete', 21, 22, 0, 0], ['delete', 22, 23, 0, 0], ['delete', 23, 24, 0, 0], ['delete', 24, 25, 0, 0], ['delete', 25, 26, 0, 0], ['delete', 26, 27, 0, 0], ['delete', 27, 28, 0, 0], ['delete', 28, 29, 0, 0], ['delete', 29, 30, 0, 0], ['delete', 30, 31, 0, 0], ['delete', 31, 32, 0, 0], ['delete', 32, 33, 0, 0], ['delete', 33, 34, 0, 0], ['delete', 34, 35, 0, 0], ['delete', 35, 36, 0, 0], ['delete', 36, 37, 0, 0], ['delete', 37, 38, 0, 0], ['delete', 38, 39, 0, 0], ['delete', 39, 40, 0, 0], ['delete', 40, 41, 0, 0], ['delete', 41, 42, 0, 0], ['delete', 42, 43, 0, 0], ['delete', 43, 44, 0, 0], ['delete', 44, 45, 0, 0], ['delete', 45, 46, 0, 0], ['delete', 46, 47, 0, 0], ['delete', 47, 48, 0, 0], ['delete', 48, 49, 0, 0], ['delete', 49, 50, 0, 0], ['delete', 50, 51, 0, 0], ['delete', 51, 52, 0, 0], ['delete', 52, 53, 0, 0], ['equal', 53, 54, 1, 2], ['delete', 54, 55, 1, 1], ['replace', 55, 56, 2, 3], ['equal', 56, 57, 3, 4], ['delete', 57, 58, 3, 3], ['delete', 58, 59, 3, 3], ['delete', 59, 60, 3, 3], ['delete', 60, 61, 3, 3], ['delete', 61, 62, 3, 3], ['delete', 62, 63, 3, 3], ['delete', 63, 64, 3, 3], ['delete', 64, 65, 3, 3], ['delete', 65, 66, 3, 3], ['delete', 66, 67, 3, 3], ['delete', 67, 68, 3, 3], ['replace', 68, 69, 4, 5], ['replace', 69, 70, 5, 6], ['replace', 70, 71, 6, 7], ['replace', 71, 72, 7, 8], ['equal', 72, 73, 8, 9], ['delete', 73, 74, 8, 8], ['replace', 74, 75, 9, 10], ['replace', 75, 76, 10, 11], ['replace', 76, 77, 11, 12], ['equal', 77, 78, 12, 13], ['delete', 78, 79, 12, 12], ['replace', 79, 80, 13, 14], ['replace', 80, 81, 14, 15], ['equal', 81, 82, 15, 16], ['replace', 82, 83, 16, 17], ['replace', 83, 84, 17, 18], ['equal', 84, 85, 18, 19], ['delete', 85, 86, 18, 18], ['delete', 86, 87, 18, 18], ['replace', 87, 88, 19, 20], ['replace', 88, 89, 20, 21], ['equal', 89, 90, 21, 22], ['replace', 90, 91, 22, 23], ['equal', 91, 92, 23, 24], ['replace', 92, 93, 24, 25], ['equal', 93, 94, 25, 26], ['replace', 94, 95, 26, 27], ['replace', 95, 96, 27, 28], ['replace', 96, 97, 28, 29], ['equal', 97, 98, 29, 30], ['delete', 98, 99, 29, 29], ['replace', 99, 100, 30, 31], ['replace', 100, 101, 31, 32], ['replace', 101, 102, 32, 33], ['replace', 102, 103, 33, 34], ['replace', 103, 104, 34, 35], ['replace', 104, 105, 35, 36], ['equal', 105, 106, 36, 37], ['delete', 106, 107, 36, 36], ['replace', 107, 108, 37, 38], ['replace', 108, 109, 38, 39], ['replace', 109, 110, 39, 40]]\n0.16\n<map object at 0x00000215F0060C48>\n"
     ]
    }
   ],
   "source": [
    "import edit_distance\n",
    "\n",
    "ref = dis_midi\n",
    "hyp = dis_query\n",
    "\n",
    "sm = edit_distance.SequenceMatcher(a=ref, b=hyp)\n",
    "print(sm.get_opcodes())\n",
    "print(sm.ratio())\n",
    "print(sm.get_matching_blocks())"
   ]
  },
  {
   "cell_type": "code",
   "execution_count": null,
   "metadata": {},
   "outputs": [],
   "source": []
  }
 ]
}