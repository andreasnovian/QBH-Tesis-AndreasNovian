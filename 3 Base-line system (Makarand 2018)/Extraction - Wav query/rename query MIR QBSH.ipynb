{
 "metadata": {
  "language_info": {
   "codemirror_mode": {
    "name": "ipython",
    "version": 3
   },
   "file_extension": ".py",
   "mimetype": "text/x-python",
   "name": "python",
   "nbconvert_exporter": "python",
   "pygments_lexer": "ipython3",
   "version": "3.7.4-final"
  },
  "orig_nbformat": 2,
  "kernelspec": {
   "name": "python3",
   "display_name": "Python 3",
   "language": "python"
  }
 },
 "nbformat": 4,
 "nbformat_minor": 2,
 "cells": [
  {
   "cell_type": "code",
   "execution_count": 2,
   "metadata": {
    "tags": []
   },
   "outputs": [],
   "source": [
    "import os\n",
    "import shutil\n",
    "\n",
    "dir_query = \"Query_MIR_QBSH\"\n",
    "# dir_query = \"test\"\n",
    "\n",
    "folderDestination = dir_query+\"_direct to file\"\n",
    "                \n",
    "if not os.path.exists(folderDestination):\n",
    "    os.mkdir(folderDestination)\n",
    "\n",
    "for yearFolder in os.listdir(dir_query):\n",
    "    yearPath = os.path.join(dir_query, yearFolder)\n",
    "    for personFolder in os.listdir(yearPath):\n",
    "        personPath = os.path.join(yearPath, personFolder)\n",
    "        for file in os.listdir(personPath):\n",
    "            source = os.path.join(personPath, file)\n",
    "            if source.endswith(\".wav\"):\n",
    "                name = yearFolder+\"-\"+personFolder+\"-\"+file\n",
    "                destination = os.path.join(folderDestination, name)\n",
    "\n",
    "                shutil.copy(source, destination)\n",
    "                # print(source)\n",
    "                # print(destination)"
   ]
  },
  {
   "cell_type": "code",
   "execution_count": null,
   "metadata": {},
   "outputs": [],
   "source": []
  }
 ]
}