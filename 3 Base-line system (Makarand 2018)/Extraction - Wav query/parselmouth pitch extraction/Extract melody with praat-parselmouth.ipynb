{
 "metadata": {
  "language_info": {
   "codemirror_mode": {
    "name": "ipython",
    "version": 3
   },
   "file_extension": ".py",
   "mimetype": "text/x-python",
   "name": "python",
   "nbconvert_exporter": "python",
   "pygments_lexer": "ipython3",
   "version": "3.7.4-final"
  },
  "orig_nbformat": 2,
  "kernelspec": {
   "name": "python3",
   "display_name": "Python 3",
   "language": "python"
  }
 },
 "nbformat": 4,
 "nbformat_minor": 2,
 "cells": [
  {
   "cell_type": "code",
   "execution_count": 1,
   "metadata": {},
   "outputs": [],
   "source": [
    "import parselmouth\n",
    "\n",
    "import numpy as np\n",
    "import os\n",
    "import pandas as pd\n",
    "import math\n",
    "\n",
    "dir_query = \"test_query\"\n",
    "\n",
    "dir_pitch = dir_query+\"-pitch extracted with parselmouth\"\n",
    "\n",
    "if not os.path.exists(dir_pitch):\n",
    "    os.mkdir(dir_pitch)\n",
    "\n",
    "def convert_f0_to_semitone(f0):\n",
    "    res = []\n",
    "    for freq in f0:\n",
    "        res.append(round(12*math.log((freq/440),2)+69))\n",
    "    return res\n",
    "\n",
    "def extract_ori_pitch_to_csv(file):\n",
    "    snd = parselmouth.Sound(file)\n",
    "\n",
    "    pitch = snd.to_pitch()\n",
    "    pitch_values = pitch.selected_array['frequency']\n",
    "\n",
    "    time = []\n",
    "    f0 = []\n",
    "\n",
    "    for i in range(len(pitch_values)):\n",
    "        if pitch_values[i]!=0:\n",
    "            f0.append(pitch_values[i].round(decimals=3))\n",
    "            time.append(pitch.xs()[i].round(decimals=3))\n",
    "\n",
    "    file = file.split(\"\\\\\")\n",
    "    file_csv = os.path.join(dir_pitch, file[1] + \"-parselmouth.csv\")\n",
    "    file_csv = file_csv.replace(\".wav\",\"\")\n",
    "\n",
    "    semitone = convert_f0_to_semitone(f0)\n",
    "\n",
    "    pd.DataFrame({'time':time, 'semitone':semitone, 'f0':f0}).to_csv(file_csv, index=False)\n",
    "\n",
    "# pe stands for pre-emphasized\n",
    "def extract_pe_pitch_to_csv(file):\n",
    "    snd = parselmouth.Sound(file)\n",
    "\n",
    "    pitch = snd.to_pitch()"
   ]
  },
  {
   "cell_type": "code",
   "execution_count": 2,
   "metadata": {
    "tags": []
   },
   "outputs": [],
   "source": [
    "for file in os.listdir(dir_query):\n",
    "    file_path = os.path.join(dir_query, file)\n",
    "    extract_ori_pitch_to_csv(file_path)"
   ]
  },
  {
   "cell_type": "code",
   "execution_count": null,
   "metadata": {},
   "outputs": [],
   "source": []
  }
 ]
}