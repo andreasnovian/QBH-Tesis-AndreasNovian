{
 "metadata": {
  "language_info": {
   "codemirror_mode": {
    "name": "ipython",
    "version": 3
   },
   "file_extension": ".py",
   "mimetype": "text/x-python",
   "name": "python",
   "nbconvert_exporter": "python",
   "pygments_lexer": "ipython3",
   "version": "3.7.4-final"
  },
  "orig_nbformat": 2,
  "kernelspec": {
   "name": "python3",
   "display_name": "Python 3"
  }
 },
 "nbformat": 4,
 "nbformat_minor": 2,
 "cells": [
  {
   "cell_type": "code",
   "execution_count": 16,
   "metadata": {},
   "outputs": [
    {
     "output_type": "stream",
     "name": "stdout",
     "text": [
      "['Midi notes extraction.ipynb', 'MIDIs', 'query', 'Referensi.txt']\n"
     ]
    }
   ],
   "source": [
    "import numpy as np # linear algebra\n",
    "import pandas as pd # data processing, CSV file I/O (e.g. pd.read_csv)\n",
    "\n",
    "# Listing current data on our folder.\n",
    "import os\n",
    "print(os.listdir(\".\"))"
   ]
  },
  {
   "cell_type": "code",
   "execution_count": 17,
   "metadata": {},
   "outputs": [
    {
     "output_type": "stream",
     "name": "stdout",
     "text": [
      "['00001.mid']\n"
     ]
    }
   ],
   "source": [
    "# Defining some constants and creating a new folder for MIDIs.\n",
    "midi_path = \"MIDIs\"\n",
    "sonic_folder = \"sonic\"\n",
    "\n",
    "# Some helper methods.    \n",
    "def concat_path(path, child):\n",
    "    return path + \"/\" + child\n",
    "    \n",
    "print(os.listdir(midi_path))"
   ]
  },
  {
   "cell_type": "code",
   "execution_count": 18,
   "metadata": {},
   "outputs": [
    {
     "output_type": "execute_result",
     "data": {
      "text/plain": [
       "<music21.stream.Score 0x2388e0e2b48>"
      ]
     },
     "metadata": {},
     "execution_count": 18
    }
   ],
   "source": [
    "from music21 import converter, corpus, instrument, midi, note, chord, pitch\n",
    "\n",
    "def open_midi(midi_path, remove_drums):\n",
    "    # There is an one-line method to read MIDIs\n",
    "    # but to remove the drums we need to manipulate some\n",
    "    # low level MIDI events.\n",
    "    mf = midi.MidiFile()\n",
    "    mf.open(midi_path)\n",
    "    mf.read()\n",
    "    mf.close()\n",
    "    if (remove_drums):\n",
    "        for i in range(len(mf.tracks)):\n",
    "            mf.tracks[i].events = [ev for ev in mf.tracks[i].events if ev.channel != 10]          \n",
    "\n",
    "    return midi.translate.midiFileToStream(mf)\n",
    "    \n",
    "base_midi = open_midi(concat_path(midi_path, \"00001.mid\"), False)\n",
    "base_midi"
   ]
  },
  {
   "cell_type": "code",
   "execution_count": 19,
   "metadata": {},
   "outputs": [
    {
     "output_type": "stream",
     "name": "stdout",
     "text": [
      "List of instruments found on MIDI file:\nPiano\n"
     ]
    }
   ],
   "source": [
    "def list_instruments(midi):\n",
    "    partStream = midi.parts.stream()\n",
    "    print(\"List of instruments found on MIDI file:\")\n",
    "    for p in partStream:\n",
    "        aux = p\n",
    "        print (p.partName)\n",
    "\n",
    "list_instruments(base_midi)"
   ]
  },
  {
   "cell_type": "code",
   "execution_count": 43,
   "metadata": {},
   "outputs": [
    {
     "output_type": "stream",
     "name": "stdout",
     "text": [
      "Midi notes:  [60.0, 62.0, 64.0, 64.0, 62.0, 60.0, 62.0, 64.0, 60.0, 55.0, 60.0, 62.0, 64.0, 64.0, 62.0, 60.0, 62.0, 64.0, 60.0, 60.0, 60.0, 60.0, 64.0, 67.0, 67.0, 67.0, 67.0, 69.0, 67.0, 65.0, 64.0, 62.0, 60.0]\n",
      "[['delete', 0, 1, 0, 0], ['delete', 1, 2, 0, 0], ['delete', 2, 3, 0, 0], ['delete', 3, 4, 0, 0], ['delete', 4, 5, 0, 0], ['delete', 5, 6, 0, 0], ['delete', 6, 7, 0, 0], ['delete', 7, 8, 0, 0], ['delete', 8, 9, 0, 0], ['delete', 9, 10, 0, 0], ['delete', 10, 11, 0, 0], ['delete', 11, 12, 0, 0], ['delete', 12, 13, 0, 0], ['delete', 13, 14, 0, 0], ['delete', 14, 15, 0, 0], ['delete', 15, 16, 0, 0], ['delete', 16, 17, 0, 0], ['delete', 17, 18, 0, 0], ['delete', 18, 19, 0, 0], ['delete', 19, 20, 0, 0], ['delete', 20, 21, 0, 0], ['delete', 21, 22, 0, 0], ['delete', 22, 23, 0, 0], ['delete', 23, 24, 0, 0], ['delete', 24, 25, 0, 0], ['delete', 25, 26, 0, 0], ['delete', 26, 27, 0, 0], ['delete', 27, 28, 0, 0], ['delete', 28, 29, 0, 0], ['delete', 29, 30, 0, 0], ['delete', 30, 31, 0, 0], ['delete', 31, 32, 0, 0], ['delete', 32, 33, 0, 0], ['delete', 33, 34, 0, 0], ['delete', 34, 35, 0, 0], ['delete', 35, 36, 0, 0], ['delete', 36, 37, 0, 0], ['delete', 37, 38, 0, 0], ['delete', 38, 39, 0, 0], ['delete', 39, 40, 0, 0], ['delete', 40, 41, 0, 0], ['delete', 41, 42, 0, 0], ['delete', 42, 43, 0, 0], ['delete', 43, 44, 0, 0], ['delete', 44, 45, 0, 0], ['delete', 45, 46, 0, 0], ['delete', 46, 47, 0, 0], ['delete', 47, 48, 0, 0], ['delete', 48, 49, 0, 0], ['delete', 49, 50, 0, 0], ['delete', 50, 51, 0, 0], ['delete', 51, 52, 0, 0], ['delete', 52, 53, 0, 0], ['delete', 53, 54, 0, 0], ['delete', 54, 55, 0, 0], ['delete', 55, 56, 0, 0], ['delete', 56, 57, 0, 0], ['delete', 57, 58, 0, 0], ['delete', 58, 59, 0, 0], ['delete', 59, 60, 0, 0], ['delete', 60, 61, 0, 0], ['delete', 61, 62, 0, 0], ['delete', 62, 63, 0, 0], ['delete', 63, 64, 0, 0], ['delete', 64, 65, 0, 0], ['delete', 65, 66, 0, 0], ['delete', 66, 67, 0, 0], ['delete', 67, 68, 0, 0], ['delete', 68, 69, 0, 0], ['delete', 69, 70, 0, 0], ['delete', 70, 71, 0, 0], ['delete', 71, 72, 0, 0], ['delete', 72, 73, 0, 0], ['delete', 73, 74, 0, 0], ['delete', 74, 75, 0, 0], ['delete', 75, 76, 0, 0], ['delete', 76, 77, 0, 0], ['delete', 77, 78, 0, 0], ['delete', 78, 79, 0, 0], ['delete', 79, 80, 0, 0], ['delete', 80, 81, 0, 0], ['delete', 81, 82, 0, 0], ['delete', 82, 83, 0, 0], ['delete', 83, 84, 0, 0], ['delete', 84, 85, 0, 0], ['delete', 85, 86, 0, 0], ['delete', 86, 87, 0, 0], ['delete', 87, 88, 0, 0], ['delete', 88, 89, 0, 0], ['delete', 89, 90, 0, 0], ['delete', 90, 91, 0, 0], ['delete', 91, 92, 0, 0], ['delete', 92, 93, 0, 0], ['delete', 93, 94, 0, 0], ['delete', 94, 95, 0, 0], ['delete', 95, 96, 0, 0], ['delete', 96, 97, 0, 0], ['delete', 97, 98, 0, 0], ['delete', 98, 99, 0, 0], ['delete', 99, 100, 0, 0], ['delete', 100, 101, 0, 0], ['delete', 101, 102, 0, 0], ['delete', 102, 103, 0, 0], ['delete', 103, 104, 0, 0], ['delete', 104, 105, 0, 0], ['delete', 105, 106, 0, 0], ['delete', 106, 107, 0, 0], ['delete', 107, 108, 0, 0], ['delete', 108, 109, 0, 0], ['delete', 109, 110, 0, 0], ['delete', 110, 111, 0, 0], ['delete', 111, 112, 0, 0], ['delete', 112, 113, 0, 0], ['delete', 113, 114, 0, 0], ['delete', 114, 115, 0, 0], ['delete', 115, 116, 0, 0], ['delete', 116, 117, 0, 0], ['delete', 117, 118, 0, 0], ['delete', 118, 119, 0, 0], ['delete', 119, 120, 0, 0], ['delete', 120, 121, 0, 0], ['delete', 121, 122, 0, 0], ['delete', 122, 123, 0, 0], ['delete', 123, 124, 0, 0], ['delete', 124, 125, 0, 0], ['delete', 125, 126, 0, 0], ['delete', 126, 127, 0, 0], ['delete', 127, 128, 0, 0], ['delete', 128, 129, 0, 0], ['delete', 129, 130, 0, 0], ['delete', 130, 131, 0, 0], ['delete', 131, 132, 0, 0], ['delete', 132, 133, 0, 0], ['delete', 133, 134, 0, 0], ['delete', 134, 135, 0, 0], ['delete', 135, 136, 0, 0], ['delete', 136, 137, 0, 0], ['delete', 137, 138, 0, 0], ['delete', 138, 139, 0, 0], ['delete', 139, 140, 0, 0], ['delete', 140, 141, 0, 0], ['delete', 141, 142, 0, 0], ['delete', 142, 143, 0, 0], ['delete', 143, 144, 0, 0], ['delete', 144, 145, 0, 0], ['delete', 145, 146, 0, 0], ['delete', 146, 147, 0, 0], ['delete', 147, 148, 0, 0], ['delete', 148, 149, 0, 0], ['delete', 149, 150, 0, 0], ['delete', 150, 151, 0, 0], ['delete', 151, 152, 0, 0], ['delete', 152, 153, 0, 0], ['delete', 153, 154, 0, 0], ['delete', 154, 155, 0, 0], ['delete', 155, 156, 0, 0], ['delete', 156, 157, 0, 0], ['delete', 157, 158, 0, 0], ['delete', 158, 159, 0, 0], ['delete', 159, 160, 0, 0], ['delete', 160, 161, 0, 0], ['delete', 161, 162, 0, 0], ['delete', 162, 163, 0, 0], ['delete', 163, 164, 0, 0], ['delete', 164, 165, 0, 0], ['delete', 165, 166, 0, 0], ['delete', 166, 167, 0, 0], ['delete', 167, 168, 0, 0], ['delete', 168, 169, 0, 0], ['delete', 169, 170, 0, 0], ['delete', 170, 171, 0, 0], ['delete', 171, 172, 0, 0], ['delete', 172, 173, 0, 0], ['delete', 173, 174, 0, 0], ['delete', 174, 175, 0, 0], ['delete', 175, 176, 0, 0], ['delete', 176, 177, 0, 0], ['delete', 177, 178, 0, 0], ['delete', 178, 179, 0, 0], ['delete', 179, 180, 0, 0], ['delete', 180, 181, 0, 0], ['delete', 181, 182, 0, 0], ['delete', 182, 183, 0, 0], ['delete', 183, 184, 0, 0], ['delete', 184, 185, 0, 0], ['delete', 185, 186, 0, 0], ['delete', 186, 187, 0, 0], ['delete', 187, 188, 0, 0], ['delete', 188, 189, 0, 0], ['delete', 189, 190, 0, 0], ['delete', 190, 191, 0, 0], ['delete', 191, 192, 0, 0], ['delete', 192, 193, 0, 0], ['delete', 193, 194, 0, 0], ['delete', 194, 195, 0, 0], ['delete', 195, 196, 0, 0], ['delete', 196, 197, 0, 0], ['delete', 197, 198, 0, 0], ['delete', 198, 199, 0, 0], ['delete', 199, 200, 0, 0], ['delete', 200, 201, 0, 0], ['delete', 201, 202, 0, 0], ['delete', 202, 203, 0, 0], ['delete', 203, 204, 0, 0], ['delete', 204, 205, 0, 0], ['delete', 205, 206, 0, 0], ['delete', 206, 207, 0, 0], ['delete', 207, 208, 0, 0], ['delete', 208, 209, 0, 0], ['delete', 209, 210, 0, 0], ['delete', 210, 211, 0, 0], ['delete', 211, 212, 0, 0], ['delete', 212, 213, 0, 0], ['delete', 213, 214, 0, 0], ['delete', 214, 215, 0, 0], ['delete', 215, 216, 0, 0], ['delete', 216, 217, 0, 0], ['delete', 217, 218, 0, 0], ['delete', 218, 219, 0, 0], ['delete', 219, 220, 0, 0], ['delete', 220, 221, 0, 0], ['delete', 221, 222, 0, 0], ['delete', 222, 223, 0, 0], ['delete', 223, 224, 0, 0], ['delete', 224, 225, 0, 0], ['delete', 225, 226, 0, 0], ['delete', 226, 227, 0, 0], ['delete', 227, 228, 0, 0], ['delete', 228, 229, 0, 0], ['delete', 229, 230, 0, 0], ['delete', 230, 231, 0, 0], ['delete', 231, 232, 0, 0], ['delete', 232, 233, 0, 0], ['delete', 233, 234, 0, 0], ['delete', 234, 235, 0, 0], ['delete', 235, 236, 0, 0], ['delete', 236, 237, 0, 0], ['delete', 237, 238, 0, 0], ['delete', 238, 239, 0, 0], ['delete', 239, 240, 0, 0], ['delete', 240, 241, 0, 0], ['delete', 241, 242, 0, 0], ['delete', 242, 243, 0, 0], ['delete', 243, 244, 0, 0], ['delete', 244, 245, 0, 0], ['delete', 245, 246, 0, 0], ['delete', 246, 247, 0, 0], ['delete', 247, 248, 0, 0], ['delete', 248, 249, 0, 0], ['delete', 249, 250, 0, 0], ['delete', 250, 251, 0, 0], ['delete', 251, 252, 0, 0], ['delete', 252, 253, 0, 0], ['delete', 253, 254, 0, 0], ['delete', 254, 255, 0, 0], ['delete', 255, 256, 0, 0], ['delete', 256, 257, 0, 0], ['delete', 257, 258, 0, 0], ['delete', 258, 259, 0, 0], ['delete', 259, 260, 0, 0], ['delete', 260, 261, 0, 0], ['delete', 261, 262, 0, 0], ['delete', 262, 263, 0, 0], ['delete', 263, 264, 0, 0], ['delete', 264, 265, 0, 0], ['delete', 265, 266, 0, 0], ['delete', 266, 267, 0, 0], ['delete', 267, 268, 0, 0], ['delete', 268, 269, 0, 0], ['delete', 269, 270, 0, 0], ['delete', 270, 271, 0, 0], ['delete', 271, 272, 0, 0], ['delete', 272, 273, 0, 0], ['delete', 273, 274, 0, 0], ['delete', 274, 275, 0, 0], ['delete', 275, 276, 0, 0], ['delete', 276, 277, 0, 0], ['delete', 277, 278, 0, 0], ['delete', 278, 279, 0, 0], ['delete', 279, 280, 0, 0], ['delete', 280, 281, 0, 0], ['delete', 281, 282, 0, 0], ['delete', 282, 283, 0, 0], ['delete', 283, 284, 0, 0], ['delete', 284, 285, 0, 0], ['delete', 285, 286, 0, 0], ['delete', 286, 287, 0, 0], ['delete', 287, 288, 0, 0], ['delete', 288, 289, 0, 0], ['delete', 289, 290, 0, 0], ['delete', 290, 291, 0, 0], ['delete', 291, 292, 0, 0], ['delete', 292, 293, 0, 0], ['delete', 293, 294, 0, 0], ['delete', 294, 295, 0, 0], ['delete', 295, 296, 0, 0], ['delete', 296, 297, 0, 0], ['delete', 297, 298, 0, 0], ['delete', 298, 299, 0, 0], ['delete', 299, 300, 0, 0], ['delete', 300, 301, 0, 0], ['delete', 301, 302, 0, 0], ['delete', 302, 303, 0, 0], ['delete', 303, 304, 0, 0], ['delete', 304, 305, 0, 0], ['delete', 305, 306, 0, 0], ['delete', 306, 307, 0, 0], ['delete', 307, 308, 0, 0], ['delete', 308, 309, 0, 0], ['delete', 309, 310, 0, 0], ['delete', 310, 311, 0, 0], ['delete', 311, 312, 0, 0], ['delete', 312, 313, 0, 0], ['delete', 313, 314, 0, 0], ['delete', 314, 315, 0, 0], ['delete', 315, 316, 0, 0], ['delete', 316, 317, 0, 0], ['delete', 317, 318, 0, 0], ['delete', 318, 319, 0, 0], ['delete', 319, 320, 0, 0], ['delete', 320, 321, 0, 0], ['delete', 321, 322, 0, 0], ['delete', 322, 323, 0, 0], ['delete', 323, 324, 0, 0], ['delete', 324, 325, 0, 0], ['delete', 325, 326, 0, 0], ['delete', 326, 327, 0, 0], ['delete', 327, 328, 0, 0], ['delete', 328, 329, 0, 0], ['delete', 329, 330, 0, 0], ['delete', 330, 331, 0, 0], ['delete', 331, 332, 0, 0], ['delete', 332, 333, 0, 0], ['delete', 333, 334, 0, 0], ['delete', 334, 335, 0, 0], ['delete', 335, 336, 0, 0], ['delete', 336, 337, 0, 0], ['delete', 337, 338, 0, 0], ['delete', 338, 339, 0, 0], ['delete', 339, 340, 0, 0], ['delete', 340, 341, 0, 0], ['delete', 341, 342, 0, 0], ['delete', 342, 343, 0, 0], ['delete', 343, 344, 0, 0], ['delete', 344, 345, 0, 0], ['delete', 345, 346, 0, 0], ['delete', 346, 347, 0, 0], ['delete', 347, 348, 0, 0], ['delete', 348, 349, 0, 0], ['delete', 349, 350, 0, 0], ['delete', 350, 351, 0, 0], ['delete', 351, 352, 0, 0], ['delete', 352, 353, 0, 0], ['delete', 353, 354, 0, 0], ['delete', 354, 355, 0, 0], ['delete', 355, 356, 0, 0], ['delete', 356, 357, 0, 0], ['delete', 357, 358, 0, 0], ['delete', 358, 359, 0, 0], ['delete', 359, 360, 0, 0], ['delete', 360, 361, 0, 0], ['delete', 361, 362, 0, 0], ['delete', 362, 363, 0, 0], ['delete', 363, 364, 0, 0], ['delete', 364, 365, 0, 0], ['delete', 365, 366, 0, 0], ['delete', 366, 367, 0, 0], ['delete', 367, 368, 0, 0], ['delete', 368, 369, 0, 0], ['delete', 369, 370, 0, 0], ['delete', 370, 371, 0, 0], ['delete', 371, 372, 0, 0], ['delete', 372, 373, 0, 0], ['delete', 373, 374, 0, 0], ['delete', 374, 375, 0, 0], ['delete', 375, 376, 0, 0], ['delete', 376, 377, 0, 0], ['delete', 377, 378, 0, 0], ['delete', 378, 379, 0, 0], ['delete', 379, 380, 0, 0], ['delete', 380, 381, 0, 0], ['delete', 381, 382, 0, 0], ['delete', 382, 383, 0, 0], ['delete', 383, 384, 0, 0], ['delete', 384, 385, 0, 0], ['delete', 385, 386, 0, 0], ['delete', 386, 387, 0, 0], ['delete', 387, 388, 0, 0], ['delete', 388, 389, 0, 0], ['delete', 389, 390, 0, 0], ['delete', 390, 391, 0, 0], ['delete', 391, 392, 0, 0], ['delete', 392, 393, 0, 0], ['delete', 393, 394, 0, 0], ['delete', 394, 395, 0, 0], ['delete', 395, 396, 0, 0], ['delete', 396, 397, 0, 0], ['delete', 397, 398, 0, 0], ['delete', 398, 399, 0, 0], ['delete', 399, 400, 0, 0], ['delete', 400, 401, 0, 0], ['delete', 401, 402, 0, 0], ['delete', 402, 403, 0, 0], ['delete', 403, 404, 0, 0], ['delete', 404, 405, 0, 0], ['delete', 405, 406, 0, 0], ['delete', 406, 407, 0, 0], ['delete', 407, 408, 0, 0], ['delete', 408, 409, 0, 0], ['delete', 409, 410, 0, 0], ['delete', 410, 411, 0, 0], ['delete', 411, 412, 0, 0], ['delete', 412, 413, 0, 0], ['delete', 413, 414, 0, 0], ['delete', 414, 415, 0, 0], ['delete', 415, 416, 0, 0], ['delete', 416, 417, 0, 0], ['delete', 417, 418, 0, 0], ['delete', 418, 419, 0, 0], ['delete', 419, 420, 0, 0], ['delete', 420, 421, 0, 0], ['delete', 421, 422, 0, 0], ['delete', 422, 423, 0, 0], ['delete', 423, 424, 0, 0], ['delete', 424, 425, 0, 0], ['delete', 425, 426, 0, 0], ['delete', 426, 427, 0, 0], ['delete', 427, 428, 0, 0], ['delete', 428, 429, 0, 0], ['delete', 429, 430, 0, 0], ['delete', 430, 431, 0, 0], ['delete', 431, 432, 0, 0], ['delete', 432, 433, 0, 0], ['delete', 433, 434, 0, 0], ['delete', 434, 435, 0, 0], ['delete', 435, 436, 0, 0], ['delete', 436, 437, 0, 0], ['delete', 437, 438, 0, 0], ['delete', 438, 439, 0, 0], ['delete', 439, 440, 0, 0], ['delete', 440, 441, 0, 0], ['delete', 441, 442, 0, 0], ['delete', 442, 443, 0, 0], ['delete', 443, 444, 0, 0], ['delete', 444, 445, 0, 0], ['delete', 445, 446, 0, 0], ['delete', 446, 447, 0, 0], ['delete', 447, 448, 0, 0], ['delete', 448, 449, 0, 0], ['delete', 449, 450, 0, 0], ['delete', 450, 451, 0, 0], ['delete', 451, 452, 0, 0], ['delete', 452, 453, 0, 0], ['delete', 453, 454, 0, 0], ['delete', 454, 455, 0, 0], ['delete', 455, 456, 0, 0], ['delete', 456, 457, 0, 0], ['delete', 457, 458, 0, 0], ['delete', 458, 459, 0, 0], ['delete', 459, 460, 0, 0], ['delete', 460, 461, 0, 0], ['delete', 461, 462, 0, 0], ['delete', 462, 463, 0, 0], ['delete', 463, 464, 0, 0], ['delete', 464, 465, 0, 0], ['delete', 465, 466, 0, 0], ['delete', 466, 467, 0, 0], ['delete', 467, 468, 0, 0], ['delete', 468, 469, 0, 0], ['delete', 469, 470, 0, 0], ['delete', 470, 471, 0, 0], ['delete', 471, 472, 0, 0], ['delete', 472, 473, 0, 0], ['delete', 473, 474, 0, 0], ['delete', 474, 475, 0, 0], ['delete', 475, 476, 0, 0], ['delete', 476, 477, 0, 0], ['delete', 477, 478, 0, 0], ['delete', 478, 479, 0, 0], ['delete', 479, 480, 0, 0], ['delete', 480, 481, 0, 0], ['delete', 481, 482, 0, 0], ['delete', 482, 483, 0, 0], ['delete', 483, 484, 0, 0], ['delete', 484, 485, 0, 0], ['delete', 485, 486, 0, 0], ['delete', 486, 487, 0, 0], ['delete', 487, 488, 0, 0], ['delete', 488, 489, 0, 0], ['delete', 489, 490, 0, 0], ['delete', 490, 491, 0, 0], ['delete', 491, 492, 0, 0], ['delete', 492, 493, 0, 0], ['delete', 493, 494, 0, 0], ['delete', 494, 495, 0, 0], ['delete', 495, 496, 0, 0], ['delete', 496, 497, 0, 0], ['delete', 497, 498, 0, 0], ['delete', 498, 499, 0, 0], ['delete', 499, 500, 0, 0], ['delete', 500, 501, 0, 0], ['delete', 501, 502, 0, 0], ['delete', 502, 503, 0, 0], ['delete', 503, 504, 0, 0], ['delete', 504, 505, 0, 0], ['delete', 505, 506, 0, 0], ['delete', 506, 507, 0, 0], ['delete', 507, 508, 0, 0], ['delete', 508, 509, 0, 0], ['delete', 509, 510, 0, 0], ['delete', 510, 511, 0, 0], ['delete', 511, 512, 0, 0], ['delete', 512, 513, 0, 0], ['delete', 513, 514, 0, 0], ['delete', 514, 515, 0, 0], ['delete', 515, 516, 0, 0], ['delete', 516, 517, 0, 0], ['delete', 517, 518, 0, 0], ['delete', 518, 519, 0, 0], ['delete', 519, 520, 0, 0], ['delete', 520, 521, 0, 0], ['delete', 521, 522, 0, 0], ['delete', 522, 523, 0, 0], ['delete', 523, 524, 0, 0], ['delete', 524, 525, 0, 0], ['delete', 525, 526, 0, 0], ['delete', 526, 527, 0, 0], ['delete', 527, 528, 0, 0], ['delete', 528, 529, 0, 0], ['delete', 529, 530, 0, 0], ['delete', 530, 531, 0, 0], ['delete', 531, 532, 0, 0], ['delete', 532, 533, 0, 0], ['delete', 533, 534, 0, 0], ['delete', 534, 535, 0, 0], ['delete', 535, 536, 0, 0], ['delete', 536, 537, 0, 0], ['delete', 537, 538, 0, 0], ['delete', 538, 539, 0, 0], ['delete', 539, 540, 0, 0], ['delete', 540, 541, 0, 0], ['delete', 541, 542, 0, 0], ['delete', 542, 543, 0, 0], ['delete', 543, 544, 0, 0], ['delete', 544, 545, 0, 0], ['delete', 545, 546, 0, 0], ['delete', 546, 547, 0, 0], ['delete', 547, 548, 0, 0], ['delete', 548, 549, 0, 0], ['delete', 549, 550, 0, 0], ['delete', 550, 551, 0, 0], ['delete', 551, 552, 0, 0], ['delete', 552, 553, 0, 0], ['delete', 553, 554, 0, 0], ['delete', 554, 555, 0, 0], ['delete', 555, 556, 0, 0], ['delete', 556, 557, 0, 0], ['delete', 557, 558, 0, 0], ['delete', 558, 559, 0, 0], ['delete', 559, 560, 0, 0], ['delete', 560, 561, 0, 0], ['delete', 561, 562, 0, 0], ['delete', 562, 563, 0, 0], ['delete', 563, 564, 0, 0], ['delete', 564, 565, 0, 0], ['delete', 565, 566, 0, 0], ['delete', 566, 567, 0, 0], ['delete', 567, 568, 0, 0], ['delete', 568, 569, 0, 0], ['delete', 569, 570, 0, 0], ['delete', 570, 571, 0, 0], ['delete', 571, 572, 0, 0], ['delete', 572, 573, 0, 0], ['delete', 573, 574, 0, 0], ['delete', 574, 575, 0, 0], ['delete', 575, 576, 0, 0], ['delete', 576, 577, 0, 0], ['delete', 577, 578, 0, 0], ['delete', 578, 579, 0, 0], ['delete', 579, 580, 0, 0], ['delete', 580, 581, 0, 0], ['delete', 581, 582, 0, 0], ['delete', 582, 583, 0, 0], ['delete', 583, 584, 0, 0], ['delete', 584, 585, 0, 0], ['delete', 585, 586, 0, 0], ['delete', 586, 587, 0, 0], ['delete', 587, 588, 0, 0], ['delete', 588, 589, 0, 0], ['delete', 589, 590, 0, 0], ['delete', 590, 591, 0, 0], ['delete', 591, 592, 0, 0], ['delete', 592, 593, 0, 0], ['delete', 593, 594, 0, 0], ['delete', 594, 595, 0, 0], ['delete', 595, 596, 0, 0], ['delete', 596, 597, 0, 0], ['delete', 597, 598, 0, 0], ['delete', 598, 599, 0, 0], ['delete', 599, 600, 0, 0], ['delete', 600, 601, 0, 0], ['delete', 601, 602, 0, 0], ['delete', 602, 603, 0, 0], ['delete', 603, 604, 0, 0], ['delete', 604, 605, 0, 0], ['delete', 605, 606, 0, 0], ['replace', 606, 607, 0, 1], ['replace', 607, 608, 1, 2], ['replace', 608, 609, 2, 3], ['replace', 609, 610, 3, 4], ['replace', 610, 611, 4, 5], ['replace', 611, 612, 5, 6], ['replace', 612, 613, 6, 7], ['replace', 613, 614, 7, 8], ['replace', 614, 615, 8, 9], ['replace', 615, 616, 9, 10], ['replace', 616, 617, 10, 11], ['replace', 617, 618, 11, 12], ['replace', 618, 619, 12, 13], ['replace', 619, 620, 13, 14], ['replace', 620, 621, 14, 15], ['replace', 621, 622, 15, 16], ['replace', 622, 623, 16, 17], ['replace', 623, 624, 17, 18], ['replace', 624, 625, 18, 19], ['replace', 625, 626, 19, 20], ['replace', 626, 627, 20, 21], ['replace', 627, 628, 21, 22], ['replace', 628, 629, 22, 23], ['replace', 629, 630, 23, 24], ['replace', 630, 631, 24, 25], ['replace', 631, 632, 25, 26], ['replace', 632, 633, 26, 27], ['replace', 633, 634, 27, 28], ['replace', 634, 635, 28, 29], ['replace', 635, 636, 29, 30], ['replace', 636, 637, 30, 31], ['replace', 637, 638, 31, 32], ['replace', 638, 639, 32, 33]]\n"
     ]
    },
    {
     "output_type": "error",
     "ename": "ValueError",
     "evalue": "('Lengths must match to compare', (639,), (33,))",
     "traceback": [
      "\u001b[1;31m---------------------------------------------------------------------------\u001b[0m",
      "\u001b[1;31mValueError\u001b[0m                                Traceback (most recent call last)",
      "\u001b[1;32m<ipython-input-43-b83727ff8887>\u001b[0m in \u001b[0;36m<module>\u001b[1;34m\u001b[0m\n\u001b[0;32m     71\u001b[0m \u001b[1;33m\u001b[0m\u001b[0m\n\u001b[0;32m     72\u001b[0m \u001b[1;31m# Focusing only on 6 first measures to make it easier to understand.\u001b[0m\u001b[1;33m\u001b[0m\u001b[1;33m\u001b[0m\u001b[1;33m\u001b[0m\u001b[0m\n\u001b[1;32m---> 73\u001b[1;33m \u001b[0mprint_parts_countour\u001b[0m\u001b[1;33m(\u001b[0m\u001b[0mbase_midi\u001b[0m\u001b[1;33m.\u001b[0m\u001b[0mmeasures\u001b[0m\u001b[1;33m(\u001b[0m\u001b[1;36m0\u001b[0m\u001b[1;33m,\u001b[0m \u001b[1;36m6\u001b[0m\u001b[1;33m)\u001b[0m\u001b[1;33m)\u001b[0m\u001b[1;33m\u001b[0m\u001b[1;33m\u001b[0m\u001b[0m\n\u001b[0m",
      "\u001b[1;32m<ipython-input-43-b83727ff8887>\u001b[0m in \u001b[0;36mprint_parts_countour\u001b[1;34m(midi)\u001b[0m\n\u001b[0;32m     45\u001b[0m     \u001b[1;32mfor\u001b[0m \u001b[0mi\u001b[0m \u001b[1;32min\u001b[0m \u001b[0mrange\u001b[0m\u001b[1;33m(\u001b[0m\u001b[0mlen\u001b[0m\u001b[1;33m(\u001b[0m\u001b[0mmidi\u001b[0m\u001b[1;33m.\u001b[0m\u001b[0mparts\u001b[0m\u001b[1;33m)\u001b[0m\u001b[1;33m)\u001b[0m\u001b[1;33m:\u001b[0m\u001b[1;33m\u001b[0m\u001b[1;33m\u001b[0m\u001b[0m\n\u001b[0;32m     46\u001b[0m         \u001b[0mtop\u001b[0m \u001b[1;33m=\u001b[0m \u001b[0mmidi\u001b[0m\u001b[1;33m.\u001b[0m\u001b[0mparts\u001b[0m\u001b[1;33m[\u001b[0m\u001b[0mi\u001b[0m\u001b[1;33m]\u001b[0m\u001b[1;33m.\u001b[0m\u001b[0mflat\u001b[0m\u001b[1;33m.\u001b[0m\u001b[0mnotes\u001b[0m\u001b[1;33m\u001b[0m\u001b[1;33m\u001b[0m\u001b[0m\n\u001b[1;32m---> 47\u001b[1;33m         \u001b[0my\u001b[0m\u001b[1;33m,\u001b[0m \u001b[0mparent_element\u001b[0m \u001b[1;33m=\u001b[0m \u001b[0mextract_notes\u001b[0m\u001b[1;33m(\u001b[0m\u001b[0mtop\u001b[0m\u001b[1;33m)\u001b[0m\u001b[1;33m\u001b[0m\u001b[1;33m\u001b[0m\u001b[0m\n\u001b[0m\u001b[0;32m     48\u001b[0m         \u001b[1;32mif\u001b[0m \u001b[1;33m(\u001b[0m\u001b[0mlen\u001b[0m\u001b[1;33m(\u001b[0m\u001b[0my\u001b[0m\u001b[1;33m)\u001b[0m \u001b[1;33m<\u001b[0m \u001b[1;36m1\u001b[0m\u001b[1;33m)\u001b[0m\u001b[1;33m:\u001b[0m \u001b[1;32mcontinue\u001b[0m\u001b[1;33m\u001b[0m\u001b[1;33m\u001b[0m\u001b[0m\n\u001b[0;32m     49\u001b[0m \u001b[1;33m\u001b[0m\u001b[0m\n",
      "\u001b[1;32m<ipython-input-43-b83727ff8887>\u001b[0m in \u001b[0;36mextract_notes\u001b[1;34m(midi_part)\u001b[0m\n\u001b[0;32m     32\u001b[0m                 \u001b[0mparent_element\u001b[0m\u001b[1;33m.\u001b[0m\u001b[0mappend\u001b[0m\u001b[1;33m(\u001b[0m\u001b[0mnt\u001b[0m\u001b[1;33m)\u001b[0m\u001b[1;33m\u001b[0m\u001b[1;33m\u001b[0m\u001b[0m\n\u001b[0;32m     33\u001b[0m \u001b[1;33m\u001b[0m\u001b[0m\n\u001b[1;32m---> 34\u001b[1;33m     \u001b[0mtry_to_compare\u001b[0m\u001b[1;33m(\u001b[0m\u001b[0mret\u001b[0m\u001b[1;33m)\u001b[0m\u001b[1;33m\u001b[0m\u001b[1;33m\u001b[0m\u001b[0m\n\u001b[0m\u001b[0;32m     35\u001b[0m     \u001b[1;32mreturn\u001b[0m \u001b[0mret\u001b[0m\u001b[1;33m,\u001b[0m \u001b[0mparent_element\u001b[0m\u001b[1;33m\u001b[0m\u001b[1;33m\u001b[0m\u001b[0m\n\u001b[0;32m     36\u001b[0m \u001b[1;33m\u001b[0m\u001b[0m\n",
      "\u001b[1;32m<ipython-input-43-b83727ff8887>\u001b[0m in \u001b[0;36mtry_to_compare\u001b[1;34m(midi_notes)\u001b[0m\n\u001b[0;32m     10\u001b[0m     \u001b[0mquery_notes\u001b[0m \u001b[1;33m=\u001b[0m \u001b[0mdf_query\u001b[0m\u001b[1;33m[\u001b[0m\u001b[1;34m'semitone'\u001b[0m\u001b[1;33m]\u001b[0m\u001b[1;33m\u001b[0m\u001b[1;33m\u001b[0m\u001b[0m\n\u001b[0;32m     11\u001b[0m \u001b[1;33m\u001b[0m\u001b[0m\n\u001b[1;32m---> 12\u001b[1;33m     \u001b[0mcompute_distance\u001b[0m\u001b[1;33m(\u001b[0m\u001b[0mquery_notes\u001b[0m\u001b[1;33m,\u001b[0m \u001b[0mmidi_notes\u001b[0m\u001b[1;33m)\u001b[0m\u001b[1;33m\u001b[0m\u001b[1;33m\u001b[0m\u001b[0m\n\u001b[0m\u001b[0;32m     13\u001b[0m \u001b[1;33m\u001b[0m\u001b[0m\n\u001b[0;32m     14\u001b[0m \u001b[1;32mdef\u001b[0m \u001b[0mcompute_distance\u001b[0m\u001b[1;33m(\u001b[0m\u001b[0mref\u001b[0m\u001b[1;33m,\u001b[0m\u001b[0mhyp\u001b[0m\u001b[1;33m)\u001b[0m\u001b[1;33m:\u001b[0m\u001b[1;33m\u001b[0m\u001b[1;33m\u001b[0m\u001b[0m\n",
      "\u001b[1;32m<ipython-input-43-b83727ff8887>\u001b[0m in \u001b[0;36mcompute_distance\u001b[1;34m(ref, hyp)\u001b[0m\n\u001b[0;32m     17\u001b[0m     \u001b[0msm\u001b[0m \u001b[1;33m=\u001b[0m \u001b[0medit_distance\u001b[0m\u001b[1;33m.\u001b[0m\u001b[0mSequenceMatcher\u001b[0m\u001b[1;33m(\u001b[0m\u001b[0ma\u001b[0m\u001b[1;33m=\u001b[0m\u001b[0mref\u001b[0m\u001b[1;33m,\u001b[0m \u001b[0mb\u001b[0m\u001b[1;33m=\u001b[0m\u001b[0mhyp\u001b[0m\u001b[1;33m)\u001b[0m\u001b[1;33m\u001b[0m\u001b[1;33m\u001b[0m\u001b[0m\n\u001b[0;32m     18\u001b[0m     \u001b[0mprint\u001b[0m\u001b[1;33m(\u001b[0m\u001b[0msm\u001b[0m\u001b[1;33m.\u001b[0m\u001b[0mget_opcodes\u001b[0m\u001b[1;33m(\u001b[0m\u001b[1;33m)\u001b[0m\u001b[1;33m)\u001b[0m\u001b[1;33m\u001b[0m\u001b[1;33m\u001b[0m\u001b[0m\n\u001b[1;32m---> 19\u001b[1;33m     \u001b[0mprint\u001b[0m\u001b[1;33m(\u001b[0m\u001b[0msm\u001b[0m\u001b[1;33m.\u001b[0m\u001b[0mratio\u001b[0m\u001b[1;33m(\u001b[0m\u001b[1;33m)\u001b[0m\u001b[1;33m)\u001b[0m\u001b[1;33m\u001b[0m\u001b[1;33m\u001b[0m\u001b[0m\n\u001b[0m\u001b[0;32m     20\u001b[0m     \u001b[0mprint\u001b[0m\u001b[1;33m(\u001b[0m\u001b[0msm\u001b[0m\u001b[1;33m.\u001b[0m\u001b[0mget_matching_blocks\u001b[0m\u001b[1;33m(\u001b[0m\u001b[1;33m)\u001b[0m\u001b[1;33m)\u001b[0m\u001b[1;33m\u001b[0m\u001b[1;33m\u001b[0m\u001b[0m\n\u001b[0;32m     21\u001b[0m \u001b[1;33m\u001b[0m\u001b[0m\n",
      "\u001b[1;32m~\\AppData\\Local\\Programs\\Python\\Python37\\lib\\site-packages\\edit_distance\\code.py\u001b[0m in \u001b[0;36mratio\u001b[1;34m(self)\u001b[0m\n\u001b[0;32m    182\u001b[0m     \u001b[1;32mdef\u001b[0m \u001b[0mratio\u001b[0m\u001b[1;33m(\u001b[0m\u001b[0mself\u001b[0m\u001b[1;33m)\u001b[0m\u001b[1;33m:\u001b[0m\u001b[1;33m\u001b[0m\u001b[1;33m\u001b[0m\u001b[0m\n\u001b[0;32m    183\u001b[0m         \u001b[1;34m\"\"\"Ratio of matches to the average sequence length.\"\"\"\u001b[0m\u001b[1;33m\u001b[0m\u001b[1;33m\u001b[0m\u001b[0m\n\u001b[1;32m--> 184\u001b[1;33m         \u001b[1;32mreturn\u001b[0m \u001b[1;36m2.0\u001b[0m \u001b[1;33m*\u001b[0m \u001b[0mself\u001b[0m\u001b[1;33m.\u001b[0m\u001b[0mmatches\u001b[0m\u001b[1;33m(\u001b[0m\u001b[1;33m)\u001b[0m \u001b[1;33m/\u001b[0m \u001b[1;33m(\u001b[0m\u001b[0mlen\u001b[0m\u001b[1;33m(\u001b[0m\u001b[0mself\u001b[0m\u001b[1;33m.\u001b[0m\u001b[0mseq1\u001b[0m\u001b[1;33m)\u001b[0m \u001b[1;33m+\u001b[0m \u001b[0mlen\u001b[0m\u001b[1;33m(\u001b[0m\u001b[0mself\u001b[0m\u001b[1;33m.\u001b[0m\u001b[0mseq2\u001b[0m\u001b[1;33m)\u001b[0m\u001b[1;33m)\u001b[0m\u001b[1;33m\u001b[0m\u001b[1;33m\u001b[0m\u001b[0m\n\u001b[0m\u001b[0;32m    185\u001b[0m \u001b[1;33m\u001b[0m\u001b[0m\n\u001b[0;32m    186\u001b[0m     \u001b[1;32mdef\u001b[0m \u001b[0mquick_ratio\u001b[0m\u001b[1;33m(\u001b[0m\u001b[0mself\u001b[0m\u001b[1;33m)\u001b[0m\u001b[1;33m:\u001b[0m\u001b[1;33m\u001b[0m\u001b[1;33m\u001b[0m\u001b[0m\n",
      "\u001b[1;32m~\\AppData\\Local\\Programs\\Python\\Python37\\lib\\site-packages\\edit_distance\\code.py\u001b[0m in \u001b[0;36mmatches\u001b[1;34m(self)\u001b[0m\n\u001b[0;32m    218\u001b[0m         :py:meth:`get_opcodes`.\"\"\"\n\u001b[0;32m    219\u001b[0m         \u001b[1;32mif\u001b[0m \u001b[1;32mnot\u001b[0m \u001b[0mself\u001b[0m\u001b[1;33m.\u001b[0m\u001b[0m_matches\u001b[0m\u001b[1;33m:\u001b[0m\u001b[1;33m\u001b[0m\u001b[1;33m\u001b[0m\u001b[0m\n\u001b[1;32m--> 220\u001b[1;33m             \u001b[0mself\u001b[0m\u001b[1;33m.\u001b[0m\u001b[0m_compute_distance_fast\u001b[0m\u001b[1;33m(\u001b[0m\u001b[1;33m)\u001b[0m\u001b[1;33m\u001b[0m\u001b[1;33m\u001b[0m\u001b[0m\n\u001b[0m\u001b[0;32m    221\u001b[0m         \u001b[1;32mreturn\u001b[0m \u001b[0mself\u001b[0m\u001b[1;33m.\u001b[0m\u001b[0m_matches\u001b[0m\u001b[1;33m\u001b[0m\u001b[1;33m\u001b[0m\u001b[0m\n\u001b[0;32m    222\u001b[0m \u001b[1;33m\u001b[0m\u001b[0m\n",
      "\u001b[1;32m~\\AppData\\Local\\Programs\\Python\\Python37\\lib\\site-packages\\edit_distance\\code.py\u001b[0m in \u001b[0;36m_compute_distance_fast\u001b[1;34m(self)\u001b[0m\n\u001b[0;32m    197\u001b[0m         d, m = edit_distance(self.seq1, self.seq2,\n\u001b[0;32m    198\u001b[0m                              \u001b[0maction_function\u001b[0m\u001b[1;33m=\u001b[0m\u001b[0mself\u001b[0m\u001b[1;33m.\u001b[0m\u001b[0maction_function\u001b[0m\u001b[1;33m,\u001b[0m\u001b[1;33m\u001b[0m\u001b[1;33m\u001b[0m\u001b[0m\n\u001b[1;32m--> 199\u001b[1;33m                              test=self.test)\n\u001b[0m\u001b[0;32m    200\u001b[0m         \u001b[1;32mif\u001b[0m \u001b[0mself\u001b[0m\u001b[1;33m.\u001b[0m\u001b[0mdist\u001b[0m\u001b[1;33m:\u001b[0m\u001b[1;33m\u001b[0m\u001b[1;33m\u001b[0m\u001b[0m\n\u001b[0;32m    201\u001b[0m             \u001b[1;32massert\u001b[0m \u001b[0md\u001b[0m \u001b[1;33m==\u001b[0m \u001b[0mself\u001b[0m\u001b[1;33m.\u001b[0m\u001b[0mdist\u001b[0m\u001b[1;33m\u001b[0m\u001b[1;33m\u001b[0m\u001b[0m\n",
      "\u001b[1;32m~\\AppData\\Local\\Programs\\Python\\Python37\\lib\\site-packages\\edit_distance\\code.py\u001b[0m in \u001b[0;36medit_distance\u001b[1;34m(seq1, seq2, action_function, test)\u001b[0m\n\u001b[0;32m    231\u001b[0m     \u001b[0mn\u001b[0m \u001b[1;33m=\u001b[0m \u001b[0mlen\u001b[0m\u001b[1;33m(\u001b[0m\u001b[0mseq2\u001b[0m\u001b[1;33m)\u001b[0m\u001b[1;33m\u001b[0m\u001b[1;33m\u001b[0m\u001b[0m\n\u001b[0;32m    232\u001b[0m     \u001b[1;31m# Special, easy cases:\u001b[0m\u001b[1;33m\u001b[0m\u001b[1;33m\u001b[0m\u001b[1;33m\u001b[0m\u001b[0m\n\u001b[1;32m--> 233\u001b[1;33m     \u001b[1;32mif\u001b[0m \u001b[0mseq1\u001b[0m \u001b[1;33m==\u001b[0m \u001b[0mseq2\u001b[0m\u001b[1;33m:\u001b[0m\u001b[1;33m\u001b[0m\u001b[1;33m\u001b[0m\u001b[0m\n\u001b[0m\u001b[0;32m    234\u001b[0m         \u001b[1;32mreturn\u001b[0m \u001b[1;36m0\u001b[0m\u001b[1;33m,\u001b[0m \u001b[0mn\u001b[0m\u001b[1;33m\u001b[0m\u001b[1;33m\u001b[0m\u001b[0m\n\u001b[0;32m    235\u001b[0m     \u001b[1;32mif\u001b[0m \u001b[0mm\u001b[0m \u001b[1;33m==\u001b[0m \u001b[1;36m0\u001b[0m\u001b[1;33m:\u001b[0m\u001b[1;33m\u001b[0m\u001b[1;33m\u001b[0m\u001b[0m\n",
      "\u001b[1;32m~\\AppData\\Local\\Programs\\Python\\Python37\\lib\\site-packages\\pandas\\core\\ops\\common.py\u001b[0m in \u001b[0;36mnew_method\u001b[1;34m(self, other)\u001b[0m\n\u001b[0;32m     63\u001b[0m         \u001b[0mother\u001b[0m \u001b[1;33m=\u001b[0m \u001b[0mitem_from_zerodim\u001b[0m\u001b[1;33m(\u001b[0m\u001b[0mother\u001b[0m\u001b[1;33m)\u001b[0m\u001b[1;33m\u001b[0m\u001b[1;33m\u001b[0m\u001b[0m\n\u001b[0;32m     64\u001b[0m \u001b[1;33m\u001b[0m\u001b[0m\n\u001b[1;32m---> 65\u001b[1;33m         \u001b[1;32mreturn\u001b[0m \u001b[0mmethod\u001b[0m\u001b[1;33m(\u001b[0m\u001b[0mself\u001b[0m\u001b[1;33m,\u001b[0m \u001b[0mother\u001b[0m\u001b[1;33m)\u001b[0m\u001b[1;33m\u001b[0m\u001b[1;33m\u001b[0m\u001b[0m\n\u001b[0m\u001b[0;32m     66\u001b[0m \u001b[1;33m\u001b[0m\u001b[0m\n\u001b[0;32m     67\u001b[0m     \u001b[1;32mreturn\u001b[0m \u001b[0mnew_method\u001b[0m\u001b[1;33m\u001b[0m\u001b[1;33m\u001b[0m\u001b[0m\n",
      "\u001b[1;32m~\\AppData\\Local\\Programs\\Python\\Python37\\lib\\site-packages\\pandas\\core\\ops\\__init__.py\u001b[0m in \u001b[0;36mwrapper\u001b[1;34m(self, other)\u001b[0m\n\u001b[0;32m    368\u001b[0m         \u001b[0mrvalues\u001b[0m \u001b[1;33m=\u001b[0m \u001b[0mextract_array\u001b[0m\u001b[1;33m(\u001b[0m\u001b[0mother\u001b[0m\u001b[1;33m,\u001b[0m \u001b[0mextract_numpy\u001b[0m\u001b[1;33m=\u001b[0m\u001b[1;32mTrue\u001b[0m\u001b[1;33m)\u001b[0m\u001b[1;33m\u001b[0m\u001b[1;33m\u001b[0m\u001b[0m\n\u001b[0;32m    369\u001b[0m \u001b[1;33m\u001b[0m\u001b[0m\n\u001b[1;32m--> 370\u001b[1;33m         \u001b[0mres_values\u001b[0m \u001b[1;33m=\u001b[0m \u001b[0mcomparison_op\u001b[0m\u001b[1;33m(\u001b[0m\u001b[0mlvalues\u001b[0m\u001b[1;33m,\u001b[0m \u001b[0mrvalues\u001b[0m\u001b[1;33m,\u001b[0m \u001b[0mop\u001b[0m\u001b[1;33m)\u001b[0m\u001b[1;33m\u001b[0m\u001b[1;33m\u001b[0m\u001b[0m\n\u001b[0m\u001b[0;32m    371\u001b[0m \u001b[1;33m\u001b[0m\u001b[0m\n\u001b[0;32m    372\u001b[0m         \u001b[1;32mreturn\u001b[0m \u001b[0mself\u001b[0m\u001b[1;33m.\u001b[0m\u001b[0m_construct_result\u001b[0m\u001b[1;33m(\u001b[0m\u001b[0mres_values\u001b[0m\u001b[1;33m,\u001b[0m \u001b[0mname\u001b[0m\u001b[1;33m=\u001b[0m\u001b[0mres_name\u001b[0m\u001b[1;33m)\u001b[0m\u001b[1;33m\u001b[0m\u001b[1;33m\u001b[0m\u001b[0m\n",
      "\u001b[1;32m~\\AppData\\Local\\Programs\\Python\\Python37\\lib\\site-packages\\pandas\\core\\ops\\array_ops.py\u001b[0m in \u001b[0;36mcomparison_op\u001b[1;34m(left, right, op)\u001b[0m\n\u001b[0;32m    223\u001b[0m         \u001b[1;32mif\u001b[0m \u001b[0mlen\u001b[0m\u001b[1;33m(\u001b[0m\u001b[0mlvalues\u001b[0m\u001b[1;33m)\u001b[0m \u001b[1;33m!=\u001b[0m \u001b[0mlen\u001b[0m\u001b[1;33m(\u001b[0m\u001b[0mrvalues\u001b[0m\u001b[1;33m)\u001b[0m\u001b[1;33m:\u001b[0m\u001b[1;33m\u001b[0m\u001b[1;33m\u001b[0m\u001b[0m\n\u001b[0;32m    224\u001b[0m             raise ValueError(\n\u001b[1;32m--> 225\u001b[1;33m                 \u001b[1;34m\"Lengths must match to compare\"\u001b[0m\u001b[1;33m,\u001b[0m \u001b[0mlvalues\u001b[0m\u001b[1;33m.\u001b[0m\u001b[0mshape\u001b[0m\u001b[1;33m,\u001b[0m \u001b[0mrvalues\u001b[0m\u001b[1;33m.\u001b[0m\u001b[0mshape\u001b[0m\u001b[1;33m\u001b[0m\u001b[1;33m\u001b[0m\u001b[0m\n\u001b[0m\u001b[0;32m    226\u001b[0m             )\n\u001b[0;32m    227\u001b[0m \u001b[1;33m\u001b[0m\u001b[0m\n",
      "\u001b[1;31mValueError\u001b[0m: ('Lengths must match to compare', (639,), (33,))"
     ]
    }
   ],
   "source": [
    "import matplotlib.pyplot as plt\n",
    "import matplotlib.lines as mlines\n",
    "\n",
    "def try_to_compare(midi_notes):\n",
    "    import pandas as pd\n",
    "\n",
    "    print('Midi notes: ',midi_notes)\n",
    "    # read semitone data from query\n",
    "    df_query = pd.read_csv('query/person00001-00001-semitone-75-600.csv')\n",
    "    query_notes = df_query['semitone']\n",
    "\n",
    "    compute_distance(query_notes, midi_notes)\n",
    "\n",
    "def compute_distance(ref,hyp):\n",
    "    import edit_distance\n",
    "\n",
    "    sm = edit_distance.SequenceMatcher(a=ref, b=hyp)\n",
    "    print(sm.get_opcodes())\n",
    "    print(sm.ratio())\n",
    "    print(sm.get_matching_blocks())\n",
    "\n",
    "def extract_notes(midi_part):\n",
    "    parent_element = []\n",
    "    ret = []\n",
    "    for nt in midi_part.flat.notes:        \n",
    "        if isinstance(nt, note.Note):\n",
    "            ret.append(max(0.0, nt.pitch.ps))\n",
    "            parent_element.append(nt)\n",
    "        elif isinstance(nt, chord.Chord):\n",
    "            for pitch in nt.pitches:\n",
    "                ret.append(max(0.0, pitch.ps))\n",
    "                parent_element.append(nt)\n",
    "\n",
    "    try_to_compare(ret)\n",
    "    return ret, parent_element\n",
    "\n",
    "def print_parts_countour(midi):\n",
    "    fig = plt.figure(figsize=(12, 5))\n",
    "    ax = fig.add_subplot(1, 1, 1)\n",
    "    minPitch = pitch.Pitch('C10').ps\n",
    "    maxPitch = 0\n",
    "    xMax = 0\n",
    "    \n",
    "    # Drawing notes.\n",
    "    for i in range(len(midi.parts)):\n",
    "        top = midi.parts[i].flat.notes                  \n",
    "        y, parent_element = extract_notes(top)\n",
    "        if (len(y) < 1): continue\n",
    "            \n",
    "        x = [n.offset for n in parent_element]\n",
    "        ax.scatter(x, y, alpha=0.6, s=7)\n",
    "        \n",
    "        aux = min(y)\n",
    "        if (aux < minPitch): minPitch = aux\n",
    "            \n",
    "        aux = max(y)\n",
    "        if (aux > maxPitch): maxPitch = aux\n",
    "            \n",
    "        aux = max(x)\n",
    "        if (aux > xMax): xMax = aux\n",
    "    \n",
    "    for i in range(1, 10):\n",
    "        linePitch = pitch.Pitch('C{0}'.format(i)).ps\n",
    "        if (linePitch > minPitch and linePitch < maxPitch):\n",
    "            ax.add_line(mlines.Line2D([0, xMax], [linePitch, linePitch], color='red', alpha=0.1))        \n",
    "\n",
    "    plt.ylabel(\"Note index (each octave has 12 notes)\")\n",
    "    plt.xlabel(\"Number of quarter notes (beats)\")\n",
    "    plt.title('Voices motion approximation, each color is a different instrument, red lines show each octave')\n",
    "    plt.show()\n",
    "\n",
    "# Focusing only on 6 first measures to make it easier to understand.\n",
    "print_parts_countour(base_midi.measures(0, 6))"
   ]
  },
  {
   "cell_type": "code",
   "execution_count": null,
   "metadata": {},
   "outputs": [],
   "source": []
  }
 ]
}